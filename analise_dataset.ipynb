{
  "nbformat": 4,
  "nbformat_minor": 0,
  "metadata": {
    "colab": {
      "provenance": []
    },
    "kernelspec": {
      "name": "python3",
      "display_name": "Python 3"
    },
    "language_info": {
      "name": "python"
    }
  },
  "cells": [
    {
      "cell_type": "code",
      "execution_count": 1,
      "metadata": {
        "id": "wui7eoseaB2j"
      },
      "outputs": [],
      "source": [
        "import pandas as pd\n",
        "import numpy as np\n",
        "from datetime import datetime\n",
        "import seaborn as sns\n",
        "import matplotlib.pyplot as plt\n",
        "from scipy import stats"
      ]
    },
    {
      "cell_type": "code",
      "source": [
        "def snake_case(texto):\n",
        "  \"Transforma um texto em padrão snake. Exemplo: 'Olá Pessoal' > 'ola_pessoal'\"\n",
        "  return texto.strip().lower().replace(' ', '_')"
      ],
      "metadata": {
        "id": "wfi-MRMdkjG-"
      },
      "execution_count": 2,
      "outputs": []
    },
    {
      "cell_type": "code",
      "source": [
        "def teste_hipotese(df, parametro_1, parametro_2):\n",
        "  cumpre_parametro_1 = df[df[parametro_1] == 1][parametro_2]\n",
        "  nao_cumpre_parametro_1 = df[df[parametro_1] == 0][parametro_2]\n",
        "  t, p_value = stats.ttest_ind(cumpre_parametro_1, nao_cumpre_parametro_1)\n",
        "  print(t)\n",
        "  print(p_value)"
      ],
      "metadata": {
        "id": "ErN20SjkH94q"
      },
      "execution_count": 3,
      "outputs": []
    },
    {
      "cell_type": "code",
      "source": [
        "df = pd.read_csv('retail_case_data.csv')"
      ],
      "metadata": {
        "id": "TDgbVUdkaMas"
      },
      "execution_count": 4,
      "outputs": []
    },
    {
      "cell_type": "code",
      "source": [
        "df.columns = [snake_case(coluna) for coluna in df.columns]"
      ],
      "metadata": {
        "id": "SJxFzU_Nkszo"
      },
      "execution_count": 5,
      "outputs": []
    },
    {
      "cell_type": "code",
      "source": [
        "df.head()"
      ],
      "metadata": {
        "colab": {
          "base_uri": "https://localhost:8080/",
          "height": 255
        },
        "id": "fP2LJSS746Pc",
        "outputId": "871d88fe-e166-4a52-bf98-c925651aa7dd"
      },
      "execution_count": 6,
      "outputs": [
        {
          "output_type": "execute_result",
          "data": {
            "text/plain": [
              "     id  year_birth   education marital_status   income  kidhome  teenhome  \\\n",
              "0  5524        1957  Graduation         Single  58138.0        0         0   \n",
              "1  2174        1954  Graduation         Single  46344.0        1         1   \n",
              "2  4141        1965  Graduation       Together  71613.0        0         0   \n",
              "3  6182        1984  Graduation       Together  26646.0        1         0   \n",
              "4  5324        1981         PhD        Married  58293.0        1         0   \n",
              "\n",
              "  dt_customer  recency  mntwines  ...  numwebvisitsmonth  acceptedcmp3  \\\n",
              "0  2012-09-04       58       635  ...                  7             0   \n",
              "1  2014-03-08       38        11  ...                  5             0   \n",
              "2  2013-08-21       26       426  ...                  4             0   \n",
              "3  2014-02-10       26        11  ...                  6             0   \n",
              "4  2014-01-19       94       173  ...                  5             0   \n",
              "\n",
              "   acceptedcmp4  acceptedcmp5  acceptedcmp1  acceptedcmp2  complain  \\\n",
              "0             0             0             0             0         0   \n",
              "1             0             0             0             0         0   \n",
              "2             0             0             0             0         0   \n",
              "3             0             0             0             0         0   \n",
              "4             0             0             0             0         0   \n",
              "\n",
              "   z_costcontact  z_revenue  response  \n",
              "0              3         11         1  \n",
              "1              3         11         0  \n",
              "2              3         11         0  \n",
              "3              3         11         0  \n",
              "4              3         11         0  \n",
              "\n",
              "[5 rows x 29 columns]"
            ],
            "text/html": [
              "\n",
              "  <div id=\"df-2c94b2e7-3cc7-4f71-b3d9-542a80db59cb\" class=\"colab-df-container\">\n",
              "    <div>\n",
              "<style scoped>\n",
              "    .dataframe tbody tr th:only-of-type {\n",
              "        vertical-align: middle;\n",
              "    }\n",
              "\n",
              "    .dataframe tbody tr th {\n",
              "        vertical-align: top;\n",
              "    }\n",
              "\n",
              "    .dataframe thead th {\n",
              "        text-align: right;\n",
              "    }\n",
              "</style>\n",
              "<table border=\"1\" class=\"dataframe\">\n",
              "  <thead>\n",
              "    <tr style=\"text-align: right;\">\n",
              "      <th></th>\n",
              "      <th>id</th>\n",
              "      <th>year_birth</th>\n",
              "      <th>education</th>\n",
              "      <th>marital_status</th>\n",
              "      <th>income</th>\n",
              "      <th>kidhome</th>\n",
              "      <th>teenhome</th>\n",
              "      <th>dt_customer</th>\n",
              "      <th>recency</th>\n",
              "      <th>mntwines</th>\n",
              "      <th>...</th>\n",
              "      <th>numwebvisitsmonth</th>\n",
              "      <th>acceptedcmp3</th>\n",
              "      <th>acceptedcmp4</th>\n",
              "      <th>acceptedcmp5</th>\n",
              "      <th>acceptedcmp1</th>\n",
              "      <th>acceptedcmp2</th>\n",
              "      <th>complain</th>\n",
              "      <th>z_costcontact</th>\n",
              "      <th>z_revenue</th>\n",
              "      <th>response</th>\n",
              "    </tr>\n",
              "  </thead>\n",
              "  <tbody>\n",
              "    <tr>\n",
              "      <th>0</th>\n",
              "      <td>5524</td>\n",
              "      <td>1957</td>\n",
              "      <td>Graduation</td>\n",
              "      <td>Single</td>\n",
              "      <td>58138.0</td>\n",
              "      <td>0</td>\n",
              "      <td>0</td>\n",
              "      <td>2012-09-04</td>\n",
              "      <td>58</td>\n",
              "      <td>635</td>\n",
              "      <td>...</td>\n",
              "      <td>7</td>\n",
              "      <td>0</td>\n",
              "      <td>0</td>\n",
              "      <td>0</td>\n",
              "      <td>0</td>\n",
              "      <td>0</td>\n",
              "      <td>0</td>\n",
              "      <td>3</td>\n",
              "      <td>11</td>\n",
              "      <td>1</td>\n",
              "    </tr>\n",
              "    <tr>\n",
              "      <th>1</th>\n",
              "      <td>2174</td>\n",
              "      <td>1954</td>\n",
              "      <td>Graduation</td>\n",
              "      <td>Single</td>\n",
              "      <td>46344.0</td>\n",
              "      <td>1</td>\n",
              "      <td>1</td>\n",
              "      <td>2014-03-08</td>\n",
              "      <td>38</td>\n",
              "      <td>11</td>\n",
              "      <td>...</td>\n",
              "      <td>5</td>\n",
              "      <td>0</td>\n",
              "      <td>0</td>\n",
              "      <td>0</td>\n",
              "      <td>0</td>\n",
              "      <td>0</td>\n",
              "      <td>0</td>\n",
              "      <td>3</td>\n",
              "      <td>11</td>\n",
              "      <td>0</td>\n",
              "    </tr>\n",
              "    <tr>\n",
              "      <th>2</th>\n",
              "      <td>4141</td>\n",
              "      <td>1965</td>\n",
              "      <td>Graduation</td>\n",
              "      <td>Together</td>\n",
              "      <td>71613.0</td>\n",
              "      <td>0</td>\n",
              "      <td>0</td>\n",
              "      <td>2013-08-21</td>\n",
              "      <td>26</td>\n",
              "      <td>426</td>\n",
              "      <td>...</td>\n",
              "      <td>4</td>\n",
              "      <td>0</td>\n",
              "      <td>0</td>\n",
              "      <td>0</td>\n",
              "      <td>0</td>\n",
              "      <td>0</td>\n",
              "      <td>0</td>\n",
              "      <td>3</td>\n",
              "      <td>11</td>\n",
              "      <td>0</td>\n",
              "    </tr>\n",
              "    <tr>\n",
              "      <th>3</th>\n",
              "      <td>6182</td>\n",
              "      <td>1984</td>\n",
              "      <td>Graduation</td>\n",
              "      <td>Together</td>\n",
              "      <td>26646.0</td>\n",
              "      <td>1</td>\n",
              "      <td>0</td>\n",
              "      <td>2014-02-10</td>\n",
              "      <td>26</td>\n",
              "      <td>11</td>\n",
              "      <td>...</td>\n",
              "      <td>6</td>\n",
              "      <td>0</td>\n",
              "      <td>0</td>\n",
              "      <td>0</td>\n",
              "      <td>0</td>\n",
              "      <td>0</td>\n",
              "      <td>0</td>\n",
              "      <td>3</td>\n",
              "      <td>11</td>\n",
              "      <td>0</td>\n",
              "    </tr>\n",
              "    <tr>\n",
              "      <th>4</th>\n",
              "      <td>5324</td>\n",
              "      <td>1981</td>\n",
              "      <td>PhD</td>\n",
              "      <td>Married</td>\n",
              "      <td>58293.0</td>\n",
              "      <td>1</td>\n",
              "      <td>0</td>\n",
              "      <td>2014-01-19</td>\n",
              "      <td>94</td>\n",
              "      <td>173</td>\n",
              "      <td>...</td>\n",
              "      <td>5</td>\n",
              "      <td>0</td>\n",
              "      <td>0</td>\n",
              "      <td>0</td>\n",
              "      <td>0</td>\n",
              "      <td>0</td>\n",
              "      <td>0</td>\n",
              "      <td>3</td>\n",
              "      <td>11</td>\n",
              "      <td>0</td>\n",
              "    </tr>\n",
              "  </tbody>\n",
              "</table>\n",
              "<p>5 rows × 29 columns</p>\n",
              "</div>\n",
              "    <div class=\"colab-df-buttons\">\n",
              "\n",
              "  <div class=\"colab-df-container\">\n",
              "    <button class=\"colab-df-convert\" onclick=\"convertToInteractive('df-2c94b2e7-3cc7-4f71-b3d9-542a80db59cb')\"\n",
              "            title=\"Convert this dataframe to an interactive table.\"\n",
              "            style=\"display:none;\">\n",
              "\n",
              "  <svg xmlns=\"http://www.w3.org/2000/svg\" height=\"24px\" viewBox=\"0 -960 960 960\">\n",
              "    <path d=\"M120-120v-720h720v720H120Zm60-500h600v-160H180v160Zm220 220h160v-160H400v160Zm0 220h160v-160H400v160ZM180-400h160v-160H180v160Zm440 0h160v-160H620v160ZM180-180h160v-160H180v160Zm440 0h160v-160H620v160Z\"/>\n",
              "  </svg>\n",
              "    </button>\n",
              "\n",
              "  <style>\n",
              "    .colab-df-container {\n",
              "      display:flex;\n",
              "      gap: 12px;\n",
              "    }\n",
              "\n",
              "    .colab-df-convert {\n",
              "      background-color: #E8F0FE;\n",
              "      border: none;\n",
              "      border-radius: 50%;\n",
              "      cursor: pointer;\n",
              "      display: none;\n",
              "      fill: #1967D2;\n",
              "      height: 32px;\n",
              "      padding: 0 0 0 0;\n",
              "      width: 32px;\n",
              "    }\n",
              "\n",
              "    .colab-df-convert:hover {\n",
              "      background-color: #E2EBFA;\n",
              "      box-shadow: 0px 1px 2px rgba(60, 64, 67, 0.3), 0px 1px 3px 1px rgba(60, 64, 67, 0.15);\n",
              "      fill: #174EA6;\n",
              "    }\n",
              "\n",
              "    .colab-df-buttons div {\n",
              "      margin-bottom: 4px;\n",
              "    }\n",
              "\n",
              "    [theme=dark] .colab-df-convert {\n",
              "      background-color: #3B4455;\n",
              "      fill: #D2E3FC;\n",
              "    }\n",
              "\n",
              "    [theme=dark] .colab-df-convert:hover {\n",
              "      background-color: #434B5C;\n",
              "      box-shadow: 0px 1px 3px 1px rgba(0, 0, 0, 0.15);\n",
              "      filter: drop-shadow(0px 1px 2px rgba(0, 0, 0, 0.3));\n",
              "      fill: #FFFFFF;\n",
              "    }\n",
              "  </style>\n",
              "\n",
              "    <script>\n",
              "      const buttonEl =\n",
              "        document.querySelector('#df-2c94b2e7-3cc7-4f71-b3d9-542a80db59cb button.colab-df-convert');\n",
              "      buttonEl.style.display =\n",
              "        google.colab.kernel.accessAllowed ? 'block' : 'none';\n",
              "\n",
              "      async function convertToInteractive(key) {\n",
              "        const element = document.querySelector('#df-2c94b2e7-3cc7-4f71-b3d9-542a80db59cb');\n",
              "        const dataTable =\n",
              "          await google.colab.kernel.invokeFunction('convertToInteractive',\n",
              "                                                    [key], {});\n",
              "        if (!dataTable) return;\n",
              "\n",
              "        const docLinkHtml = 'Like what you see? Visit the ' +\n",
              "          '<a target=\"_blank\" href=https://colab.research.google.com/notebooks/data_table.ipynb>data table notebook</a>'\n",
              "          + ' to learn more about interactive tables.';\n",
              "        element.innerHTML = '';\n",
              "        dataTable['output_type'] = 'display_data';\n",
              "        await google.colab.output.renderOutput(dataTable, element);\n",
              "        const docLink = document.createElement('div');\n",
              "        docLink.innerHTML = docLinkHtml;\n",
              "        element.appendChild(docLink);\n",
              "      }\n",
              "    </script>\n",
              "  </div>\n",
              "\n",
              "\n",
              "<div id=\"df-77884883-a493-45f3-9b73-429a08c491df\">\n",
              "  <button class=\"colab-df-quickchart\" onclick=\"quickchart('df-77884883-a493-45f3-9b73-429a08c491df')\"\n",
              "            title=\"Suggest charts\"\n",
              "            style=\"display:none;\">\n",
              "\n",
              "<svg xmlns=\"http://www.w3.org/2000/svg\" height=\"24px\"viewBox=\"0 0 24 24\"\n",
              "     width=\"24px\">\n",
              "    <g>\n",
              "        <path d=\"M19 3H5c-1.1 0-2 .9-2 2v14c0 1.1.9 2 2 2h14c1.1 0 2-.9 2-2V5c0-1.1-.9-2-2-2zM9 17H7v-7h2v7zm4 0h-2V7h2v10zm4 0h-2v-4h2v4z\"/>\n",
              "    </g>\n",
              "</svg>\n",
              "  </button>\n",
              "\n",
              "<style>\n",
              "  .colab-df-quickchart {\n",
              "      --bg-color: #E8F0FE;\n",
              "      --fill-color: #1967D2;\n",
              "      --hover-bg-color: #E2EBFA;\n",
              "      --hover-fill-color: #174EA6;\n",
              "      --disabled-fill-color: #AAA;\n",
              "      --disabled-bg-color: #DDD;\n",
              "  }\n",
              "\n",
              "  [theme=dark] .colab-df-quickchart {\n",
              "      --bg-color: #3B4455;\n",
              "      --fill-color: #D2E3FC;\n",
              "      --hover-bg-color: #434B5C;\n",
              "      --hover-fill-color: #FFFFFF;\n",
              "      --disabled-bg-color: #3B4455;\n",
              "      --disabled-fill-color: #666;\n",
              "  }\n",
              "\n",
              "  .colab-df-quickchart {\n",
              "    background-color: var(--bg-color);\n",
              "    border: none;\n",
              "    border-radius: 50%;\n",
              "    cursor: pointer;\n",
              "    display: none;\n",
              "    fill: var(--fill-color);\n",
              "    height: 32px;\n",
              "    padding: 0;\n",
              "    width: 32px;\n",
              "  }\n",
              "\n",
              "  .colab-df-quickchart:hover {\n",
              "    background-color: var(--hover-bg-color);\n",
              "    box-shadow: 0 1px 2px rgba(60, 64, 67, 0.3), 0 1px 3px 1px rgba(60, 64, 67, 0.15);\n",
              "    fill: var(--button-hover-fill-color);\n",
              "  }\n",
              "\n",
              "  .colab-df-quickchart-complete:disabled,\n",
              "  .colab-df-quickchart-complete:disabled:hover {\n",
              "    background-color: var(--disabled-bg-color);\n",
              "    fill: var(--disabled-fill-color);\n",
              "    box-shadow: none;\n",
              "  }\n",
              "\n",
              "  .colab-df-spinner {\n",
              "    border: 2px solid var(--fill-color);\n",
              "    border-color: transparent;\n",
              "    border-bottom-color: var(--fill-color);\n",
              "    animation:\n",
              "      spin 1s steps(1) infinite;\n",
              "  }\n",
              "\n",
              "  @keyframes spin {\n",
              "    0% {\n",
              "      border-color: transparent;\n",
              "      border-bottom-color: var(--fill-color);\n",
              "      border-left-color: var(--fill-color);\n",
              "    }\n",
              "    20% {\n",
              "      border-color: transparent;\n",
              "      border-left-color: var(--fill-color);\n",
              "      border-top-color: var(--fill-color);\n",
              "    }\n",
              "    30% {\n",
              "      border-color: transparent;\n",
              "      border-left-color: var(--fill-color);\n",
              "      border-top-color: var(--fill-color);\n",
              "      border-right-color: var(--fill-color);\n",
              "    }\n",
              "    40% {\n",
              "      border-color: transparent;\n",
              "      border-right-color: var(--fill-color);\n",
              "      border-top-color: var(--fill-color);\n",
              "    }\n",
              "    60% {\n",
              "      border-color: transparent;\n",
              "      border-right-color: var(--fill-color);\n",
              "    }\n",
              "    80% {\n",
              "      border-color: transparent;\n",
              "      border-right-color: var(--fill-color);\n",
              "      border-bottom-color: var(--fill-color);\n",
              "    }\n",
              "    90% {\n",
              "      border-color: transparent;\n",
              "      border-bottom-color: var(--fill-color);\n",
              "    }\n",
              "  }\n",
              "</style>\n",
              "\n",
              "  <script>\n",
              "    async function quickchart(key) {\n",
              "      const quickchartButtonEl =\n",
              "        document.querySelector('#' + key + ' button');\n",
              "      quickchartButtonEl.disabled = true;  // To prevent multiple clicks.\n",
              "      quickchartButtonEl.classList.add('colab-df-spinner');\n",
              "      try {\n",
              "        const charts = await google.colab.kernel.invokeFunction(\n",
              "            'suggestCharts', [key], {});\n",
              "      } catch (error) {\n",
              "        console.error('Error during call to suggestCharts:', error);\n",
              "      }\n",
              "      quickchartButtonEl.classList.remove('colab-df-spinner');\n",
              "      quickchartButtonEl.classList.add('colab-df-quickchart-complete');\n",
              "    }\n",
              "    (() => {\n",
              "      let quickchartButtonEl =\n",
              "        document.querySelector('#df-77884883-a493-45f3-9b73-429a08c491df button');\n",
              "      quickchartButtonEl.style.display =\n",
              "        google.colab.kernel.accessAllowed ? 'block' : 'none';\n",
              "    })();\n",
              "  </script>\n",
              "</div>\n",
              "\n",
              "    </div>\n",
              "  </div>\n"
            ],
            "application/vnd.google.colaboratory.intrinsic+json": {
              "type": "dataframe",
              "variable_name": "df"
            }
          },
          "metadata": {},
          "execution_count": 6
        }
      ]
    },
    {
      "cell_type": "code",
      "source": [
        "# Inicialmente vamos realizar os tratamentos de qualidade dos dados, sendo eles:\n",
        "# - Tratamento de campos nulos.\n",
        "# - Tratamento de outliers."
      ],
      "metadata": {
        "id": "e5sPo-bTEq_s"
      },
      "execution_count": 7,
      "outputs": []
    },
    {
      "cell_type": "code",
      "source": [
        "# df.isnull().sum()"
      ],
      "metadata": {
        "id": "-LFp2F9NFOlN"
      },
      "execution_count": 8,
      "outputs": []
    },
    {
      "cell_type": "code",
      "source": [
        "# Por serem apenas 24 valores em um universo de mais de 2000 casos, vou excluir os casos com campos vazios."
      ],
      "metadata": {
        "id": "O4wCSnnhFp2m"
      },
      "execution_count": 9,
      "outputs": []
    },
    {
      "cell_type": "code",
      "source": [
        "df = df.dropna(subset='income')"
      ],
      "metadata": {
        "id": "soXFTMypFyKo"
      },
      "execution_count": 10,
      "outputs": []
    },
    {
      "cell_type": "code",
      "source": [
        "# Observando o DataFrame percebemos que podemos realizar mais alguns tratamentos importantes para posteriormente avaliarmos os dados.\n",
        "# Como exemplo, tratar as variáveis categóricas utilizando codificação binária para representar as características (dummy variables), úteis para considerar as informações qualitativas.\n",
        "# No caso da escolaridade vamos fazer uma tratativa de codificação ordinal, já que há uma sequência esperada de realização.\n",
        "# Gosto também pessoalmente de tratar datas para variáveis contínuas positivas (deltas)."
      ],
      "metadata": {
        "id": "VMSBC2XL4-eD"
      },
      "execution_count": 11,
      "outputs": []
    },
    {
      "cell_type": "code",
      "source": [
        "df.dt_customer = pd.to_datetime(df.dt_customer)"
      ],
      "metadata": {
        "id": "Cx3xJxeVdx2A"
      },
      "execution_count": 12,
      "outputs": []
    },
    {
      "cell_type": "code",
      "source": [
        "df['data_de_analise'] = pd.to_datetime(datetime.today())"
      ],
      "metadata": {
        "id": "NHB0pYEGeEVR"
      },
      "execution_count": 13,
      "outputs": []
    },
    {
      "cell_type": "code",
      "source": [
        "df['tempo_decorrido_cadastro'] = (df['data_de_analise'] - df['dt_customer']).dt.days\n",
        "df['idade'] = df.data_de_analise.dt.year - df.year_birth\n",
        "df = df.drop('data_de_analise', axis=1)\n",
        "df = df.drop('dt_customer', axis=1)"
      ],
      "metadata": {
        "id": "oHS68f2Hg39x"
      },
      "execution_count": 14,
      "outputs": []
    },
    {
      "cell_type": "code",
      "source": [
        "df_encoded = pd.get_dummies(df, columns=['marital_status'])"
      ],
      "metadata": {
        "id": "38TTcpTGfFHA"
      },
      "execution_count": 15,
      "outputs": []
    },
    {
      "cell_type": "code",
      "source": [
        "ordem_categorias = {'Basic':1, 'Graduation':2, '2n Cycle':3, 'Master':3, 'PhD':4}\n",
        "# Considerei que o 2n cycle é o referente ao segundo ciclo europeu (mestrado)."
      ],
      "metadata": {
        "id": "5usDLscdjD5n"
      },
      "execution_count": 16,
      "outputs": []
    },
    {
      "cell_type": "code",
      "source": [
        "df_encoded['education'] = df_encoded['education'].map(ordem_categorias)"
      ],
      "metadata": {
        "id": "KLH32FsIkMLp"
      },
      "execution_count": 17,
      "outputs": []
    },
    {
      "cell_type": "code",
      "source": [
        "df_encoded.columns = [snake_case(coluna) for coluna in df_encoded.columns]"
      ],
      "metadata": {
        "id": "upDYoQ5Mf2XM"
      },
      "execution_count": 18,
      "outputs": []
    },
    {
      "cell_type": "code",
      "source": [
        "# Aproveitando que removemos as variáveis categóricas, vamos também limpar a base dos outliers, utilizando 3 desvios padrão."
      ],
      "metadata": {
        "id": "BFn2RTarcjUV"
      },
      "execution_count": 19,
      "outputs": []
    },
    {
      "cell_type": "code",
      "source": [
        "continuous_columns = ['income', 'kidhome', 'teenhome', 'recency',\n",
        "       'mntwines', 'mntfruits', 'mntmeatproducts', 'mntfishproducts',\n",
        "       'mntsweetproducts', 'mntgoldprods', 'numdealspurchases',\n",
        "       'numwebpurchases', 'numcatalogpurchases', 'numstorepurchases',\n",
        "       'numwebvisitsmonth', 'tempo_decorrido_cadastro', 'idade']"
      ],
      "metadata": {
        "id": "6vaNS511euPw"
      },
      "execution_count": 20,
      "outputs": []
    },
    {
      "cell_type": "code",
      "source": [
        "df_filtered = df_encoded[continuous_columns]"
      ],
      "metadata": {
        "id": "xNC_5YTJffHG"
      },
      "execution_count": 21,
      "outputs": []
    },
    {
      "cell_type": "code",
      "source": [
        "z_scores = stats.zscore(df_filtered)\n",
        "threshold = 3"
      ],
      "metadata": {
        "id": "sFm1BmSIctiw"
      },
      "execution_count": 22,
      "outputs": []
    },
    {
      "cell_type": "code",
      "source": [
        "df_filtered = df_filtered[(z_scores < threshold).all(axis=1)]"
      ],
      "metadata": {
        "id": "N1kkdvNlc1w6"
      },
      "execution_count": 23,
      "outputs": []
    },
    {
      "cell_type": "code",
      "source": [
        "df_encoded = df_encoded.loc[df_filtered.index]"
      ],
      "metadata": {
        "id": "OrbF33wLeIQK"
      },
      "execution_count": 24,
      "outputs": []
    },
    {
      "cell_type": "code",
      "source": [
        "# Determinação de breakeven\n",
        "custo_contato = 3\n",
        "retorno_conversao = 11\n",
        "breakeven = custo_contato/retorno_conversao * 100\n",
        "print(breakeven)"
      ],
      "metadata": {
        "colab": {
          "base_uri": "https://localhost:8080/"
        },
        "id": "jUS3h9Kcg1XF",
        "outputId": "3cfba66d-a3b8-48c6-d5fe-b8e65ff8b68a"
      },
      "execution_count": 167,
      "outputs": [
        {
          "output_type": "stream",
          "name": "stdout",
          "text": [
            "27.27272727272727\n"
          ]
        }
      ]
    },
    {
      "cell_type": "code",
      "source": [
        "Após o ponto de equilíbrio, os custos são menores que os ganhos, ainda assim, podemos observar oportunidades de investimento com baixo risco.\n",
        "Se a taxa básica de juros representa uma oportunidade de investimento sem risco, então para considerar o investimento atrativo, é esperado que o investimento exceda a taxa básica de juros.\n",
        "Caso haja disponibilidade, podemos ainda avaliar outras variáveis como riscos associados e horizonte de retorno."
      ],
      "metadata": {
        "id": "nDVSOz_ejJ94"
      },
      "execution_count": null,
      "outputs": []
    },
    {
      "cell_type": "code",
      "source": [
        "# Neste momento iniciei a análise de correlação, as questões exigiram a avaliação de poucos parâmetros, são eles:\n",
        "# 1. idade do clientes vs conversão\n",
        "# 2. escolaridade vs conversão\n",
        "# 3. renda vs conversão\n",
        "# Parâmetro considerado:\n",
        "# correl forte: +1 a +.7 ou -.7 a -1\n",
        "# correl moderada: +.7 a +.3 ou -.3 a -.7\n",
        "# correl fraca: +.3 a 0 ou 0 a -.3"
      ],
      "metadata": {
        "id": "qIfvdxcV6AIz"
      },
      "execution_count": 25,
      "outputs": []
    },
    {
      "cell_type": "code",
      "source": [
        "correl = df_encoded.corr()"
      ],
      "metadata": {
        "id": "H30i6DizkTEa"
      },
      "execution_count": 26,
      "outputs": []
    },
    {
      "cell_type": "code",
      "source": [
        "correl['idade']['response'] # Correlação fraca"
      ],
      "metadata": {
        "colab": {
          "base_uri": "https://localhost:8080/"
        },
        "id": "lsTM9G8rdbSJ",
        "outputId": "ed93c5c7-8ebb-4707-e06b-43ed1a8f6d40"
      },
      "execution_count": 27,
      "outputs": [
        {
          "output_type": "execute_result",
          "data": {
            "text/plain": [
              "-0.003117884173573325"
            ]
          },
          "metadata": {},
          "execution_count": 27
        }
      ]
    },
    {
      "cell_type": "code",
      "source": [
        "# Para duplamente validar a não correlação, vamos realizar um teste de hipótese:\n",
        "# H0: A média de idade dos clientes que compraram o produto é igual dos que não compraram.\n",
        "# H1: A média de idades dos clientes que compraram o produto é diferente dos que não compraram."
      ],
      "metadata": {
        "id": "dv2gon2-9siC"
      },
      "execution_count": 28,
      "outputs": []
    },
    {
      "cell_type": "code",
      "source": [
        "teste_hipotese(df_encoded, 'response', 'idade')"
      ],
      "metadata": {
        "colab": {
          "base_uri": "https://localhost:8080/"
        },
        "id": "i_-BMB_z-W-b",
        "outputId": "37f8c156-172b-42f7-9559-78c5d914d6d3"
      },
      "execution_count": 29,
      "outputs": [
        {
          "output_type": "stream",
          "name": "stdout",
          "text": [
            "-0.13771800510499396\n",
            "0.890477500043385\n"
          ]
        }
      ]
    },
    {
      "cell_type": "code",
      "source": [
        "# Como normalmente o nível de significância escolhido é de 0.05, consideramos que NÃO podemos rejeitar a hipótese nula."
      ],
      "metadata": {
        "id": "1rFZhrfH_83J"
      },
      "execution_count": 30,
      "outputs": []
    },
    {
      "cell_type": "code",
      "source": [
        "print(correl['education']['response']) # Correlação fraca"
      ],
      "metadata": {
        "colab": {
          "base_uri": "https://localhost:8080/"
        },
        "id": "75LYIE5BmdO7",
        "outputId": "fa45dc28-1153-415e-d95e-be222bb53cc2"
      },
      "execution_count": 31,
      "outputs": [
        {
          "output_type": "stream",
          "name": "stdout",
          "text": [
            "0.1069305808245222\n"
          ]
        }
      ]
    },
    {
      "cell_type": "code",
      "source": [
        "# Para duplamente validar a não correlação, vamos realizar um teste de hipótese:\n",
        "# H0: A média de educação formal dos clientes que compraram o produto é igual dos que não compraram.\n",
        "# H1: A média de educação formal dos clientes que compraram o produto é diferente dos que não compraram."
      ],
      "metadata": {
        "id": "mIa6k4tjlD46"
      },
      "execution_count": 32,
      "outputs": []
    },
    {
      "cell_type": "code",
      "source": [
        "teste_hipotese(df_encoded, 'response', 'education')"
      ],
      "metadata": {
        "colab": {
          "base_uri": "https://localhost:8080/"
        },
        "id": "Klf_3icKHww7",
        "outputId": "5398e32a-694b-4d2a-e0b0-cb99b9c45d3a"
      },
      "execution_count": 33,
      "outputs": [
        {
          "output_type": "stream",
          "name": "stdout",
          "text": [
            "4.7503735103290525\n",
            "2.1785251328868787e-06\n"
          ]
        }
      ]
    },
    {
      "cell_type": "code",
      "source": [
        "# Como normalmente o nível de significância escolhido é de 0.05, consideramos que PODEMOS rejeitar a hipótese nula.\n",
        "# Mesmo com a correlação sendo inconclusiva em primeiro momento, afirmamos que a educação dos clientes interfere sim na compra do produto de acordo com o teste de hipótese."
      ],
      "metadata": {
        "id": "lYasbZ4dJM_9"
      },
      "execution_count": 34,
      "outputs": []
    },
    {
      "cell_type": "code",
      "source": [
        "correl['income']['response'] # Correlação fraca"
      ],
      "metadata": {
        "colab": {
          "base_uri": "https://localhost:8080/"
        },
        "id": "Oeciu89Fm6vc",
        "outputId": "6b0ba2a7-104a-4cc0-fddb-2c3d578e8d0e"
      },
      "execution_count": 35,
      "outputs": [
        {
          "output_type": "execute_result",
          "data": {
            "text/plain": [
              "0.12403633653939328"
            ]
          },
          "metadata": {},
          "execution_count": 35
        }
      ]
    },
    {
      "cell_type": "code",
      "source": [
        "# Para duplamente validar a não correlação, vamos realizar um teste de hipótese:\n",
        "# H0: A média de renda dos clientes que compraram o produto é igual dos que não compraram.\n",
        "# H1: A média de renda dos clientes que compraram o produto é diferente dos que não compraram."
      ],
      "metadata": {
        "id": "mxxL6S8uA2eT"
      },
      "execution_count": 36,
      "outputs": []
    },
    {
      "cell_type": "code",
      "source": [
        "teste_hipotese(df_encoded, 'response', 'income')"
      ],
      "metadata": {
        "colab": {
          "base_uri": "https://localhost:8080/"
        },
        "id": "6xdkOfE4AtuK",
        "outputId": "1b96baac-5176-493d-a7ad-89e4aa594177"
      },
      "execution_count": 37,
      "outputs": [
        {
          "output_type": "stream",
          "name": "stdout",
          "text": [
            "5.521338129562282\n",
            "3.8141722328771546e-08\n"
          ]
        }
      ]
    },
    {
      "cell_type": "code",
      "source": [
        "# Como normalmente o nível de significância escolhido é de 0.05, consideramos que PODEMOS rejeitar a hipótese nula.\n",
        "# Mesmo com a correlação sendo inconclusiva em primeiro momento, afirmamos que a renda dos clientes interfere sim na compra do produto de acordo com o teste de hipótese."
      ],
      "metadata": {
        "id": "77HePaN_HGwI"
      },
      "execution_count": 38,
      "outputs": []
    },
    {
      "cell_type": "code",
      "source": [
        "# Vamos plotar os gráficos de regressão para melhor visualizar as três variáveis."
      ],
      "metadata": {
        "id": "NC8A3ocslxLh"
      },
      "execution_count": 39,
      "outputs": []
    },
    {
      "cell_type": "code",
      "source": [
        "# idade vs response\n",
        "x = df_encoded.idade\n",
        "y = df_encoded.response\n",
        "sns.boxplot(x='response', y='idade', data=df_encoded)\n",
        "plt.title('Idade vs Resposta')\n",
        "plt.show()"
      ],
      "metadata": {
        "colab": {
          "base_uri": "https://localhost:8080/",
          "height": 472
        },
        "id": "T-tMH8I_sFpf",
        "outputId": "99a61b4d-9989-4f01-c57f-d4823687e54d"
      },
      "execution_count": 40,
      "outputs": [
        {
          "output_type": "display_data",
          "data": {
            "text/plain": [
              "<Figure size 640x480 with 1 Axes>"
            ],
            "image/png": "[encoded data removed]"
          },
          "metadata": {}
        }
      ]
    },
    {
      "cell_type": "code",
      "source": [
        "# education vs response\n",
        "x = df_encoded.idade\n",
        "y = df_encoded.response\n",
        "sns.boxplot(x='response', y='education', data=df_encoded)\n",
        "plt.title('Educação formal vs Resposta')\n",
        "plt.show()"
      ],
      "metadata": {
        "colab": {
          "base_uri": "https://localhost:8080/",
          "height": 472
        },
        "id": "dPmTTW-cummg",
        "outputId": "8ba72eaa-eb86-4d07-a689-dea9301cca38"
      },
      "execution_count": 41,
      "outputs": [
        {
          "output_type": "display_data",
          "data": {
            "text/plain": [
              "<Figure size 640x480 with 1 Axes>"
            ],
            "image/png": "[encoded data removed]"
          },
          "metadata": {}
        }
      ]
    },
    {
      "cell_type": "code",
      "source": [
        "# renda vs response\n",
        "x = df_encoded.idade\n",
        "y = df_encoded.response\n",
        "sns.boxplot(x='response', y='income', data=df_encoded)\n",
        "plt.title('Renda vs Resposta')\n",
        "plt.show()"
      ],
      "metadata": {
        "colab": {
          "base_uri": "https://localhost:8080/",
          "height": 472
        },
        "id": "PukCKKKNsJcZ",
        "outputId": "1f95e0ac-6ae5-4b47-cb40-68ddc5783467"
      },
      "execution_count": 43,
      "outputs": [
        {
          "output_type": "display_data",
          "data": {
            "text/plain": [
              "<Figure size 640x480 with 1 Axes>"
            ],
            "image/png": "[encoded data removed]"
          },
          "metadata": {}
        }
      ]
    },
    {
      "cell_type": "code",
      "source": [
        "plt.figure(figsize=(6,10))\n",
        "sns.heatmap(correl[['income','response']], cmap='coolwarm')\n",
        "plt.title('Mapa de calor')\n",
        "plt.show()"
      ],
      "metadata": {
        "colab": {
          "base_uri": "https://localhost:8080/",
          "height": 853
        },
        "id": "aFLXtI07T5AO",
        "outputId": "7e588f7d-dd9e-4927-f7a2-d887530cdcb5"
      },
      "execution_count": 162,
      "outputs": [
        {
          "output_type": "display_data",
          "data": {
            "text/plain": [
              "<Figure size 600x1000 with 2 Axes>"
            ],
            "image/png": "[encoded data removed]"
          },
          "metadata": {}
        }
      ]
    },
    {
      "cell_type": "code",
      "source": [
        "# Chamam atenção as seguintes correlações (>0.12 ou <-0.12):\n",
        "\n",
        "# Positivas:\n",
        "# 1. Clientes que aceitaram uma das 5 últimas campanhas, com destaque às campanhas 1, 3 e 5.\n",
        "# 2. Gastos em vinhos, carnes, ouro, frutas e peixes, em ordem decrescente de importância.\n",
        "# 3. Volume de compras por catálogo e web.\n",
        "# 4. Tempo decorrido do cadastro.\n",
        "# 5. Renda.\n",
        "\n",
        "# Negativas:\n",
        "# 1. Tempo desde a última compra.\n",
        "# 2. Clientes com jovens.\n",
        "\n",
        "# Sendo assim vamos olhar as estatísticas destas variáveis para os casos em que a campanha converteu."
      ],
      "metadata": {
        "id": "wt7uRLWl7kME"
      },
      "execution_count": 45,
      "outputs": []
    },
    {
      "cell_type": "code",
      "source": [
        "df_filtered = df_encoded[df_encoded.response == 1]"
      ],
      "metadata": {
        "id": "S7Is73ffsrjR"
      },
      "execution_count": 46,
      "outputs": []
    },
    {
      "cell_type": "code",
      "source": [
        "describe = df_filtered.describe()"
      ],
      "metadata": {
        "id": "Sdvle4nzhlGU"
      },
      "execution_count": 47,
      "outputs": []
    },
    {
      "cell_type": "code",
      "source": [
        "colunas_interesse = ['acceptedcmp1',\n",
        "                     'acceptedcmp5',\n",
        "                     'acceptedcmp3',\n",
        "                     'acceptedcmp4',\n",
        "                     'acceptedcmp2',\n",
        "                     'mntwines',\n",
        "                     'mntmeatproducts',\n",
        "                     'numcatalogpurchases',\n",
        "                     'numwebpurchases',\n",
        "                     'mntgoldprods',\n",
        "                     'mntsweetproducts',\n",
        "                     'mntfishproducts',\n",
        "                     'education',\n",
        "                     'income',\n",
        "                     'recency',\n",
        "                     'tempo_decorrido_cadastro',\n",
        "                     'teenhome']"
      ],
      "metadata": {
        "id": "1CFvOuApyQwh"
      },
      "execution_count": 48,
      "outputs": []
    },
    {
      "cell_type": "code",
      "source": [
        "correl_var = df_encoded[colunas_interesse].corr().abs() > 0.7"
      ],
      "metadata": {
        "id": "mk7ULczg2inb"
      },
      "execution_count": 49,
      "outputs": []
    },
    {
      "cell_type": "code",
      "source": [
        "correl_var"
      ],
      "metadata": {
        "colab": {
          "base_uri": "https://localhost:8080/",
          "height": 602
        },
        "id": "4bnBYDtK2ng9",
        "outputId": "1485513d-5b36-46a5-8bad-b5ee96f33024"
      },
      "execution_count": 50,
      "outputs": [
        {
          "output_type": "execute_result",
          "data": {
            "text/plain": [
              "                          acceptedcmp1  acceptedcmp5  acceptedcmp3  \\\n",
              "acceptedcmp1                      True         False         False   \n",
              "acceptedcmp5                     False          True         False   \n",
              "acceptedcmp3                     False         False          True   \n",
              "acceptedcmp4                     False         False         False   \n",
              "acceptedcmp2                     False         False         False   \n",
              "mntwines                         False         False         False   \n",
              "mntmeatproducts                  False         False         False   \n",
              "numcatalogpurchases              False         False         False   \n",
              "numwebpurchases                  False         False         False   \n",
              "mntgoldprods                     False         False         False   \n",
              "mntsweetproducts                 False         False         False   \n",
              "mntfishproducts                  False         False         False   \n",
              "education                        False         False         False   \n",
              "income                           False         False         False   \n",
              "recency                          False         False         False   \n",
              "tempo_decorrido_cadastro         False         False         False   \n",
              "teenhome                         False         False         False   \n",
              "\n",
              "                          acceptedcmp4  acceptedcmp2  mntwines  \\\n",
              "acceptedcmp1                     False         False     False   \n",
              "acceptedcmp5                     False         False     False   \n",
              "acceptedcmp3                     False         False     False   \n",
              "acceptedcmp4                      True         False     False   \n",
              "acceptedcmp2                     False          True     False   \n",
              "mntwines                         False         False      True   \n",
              "mntmeatproducts                  False         False     False   \n",
              "numcatalogpurchases              False         False      True   \n",
              "numwebpurchases                  False         False     False   \n",
              "mntgoldprods                     False         False     False   \n",
              "mntsweetproducts                 False         False     False   \n",
              "mntfishproducts                  False         False     False   \n",
              "education                        False         False     False   \n",
              "income                           False         False      True   \n",
              "recency                          False         False     False   \n",
              "tempo_decorrido_cadastro         False         False     False   \n",
              "teenhome                         False         False     False   \n",
              "\n",
              "                          mntmeatproducts  numcatalogpurchases  \\\n",
              "acceptedcmp1                        False                False   \n",
              "acceptedcmp5                        False                False   \n",
              "acceptedcmp3                        False                False   \n",
              "acceptedcmp4                        False                False   \n",
              "acceptedcmp2                        False                False   \n",
              "mntwines                            False                 True   \n",
              "mntmeatproducts                      True                 True   \n",
              "numcatalogpurchases                  True                 True   \n",
              "numwebpurchases                     False                False   \n",
              "mntgoldprods                        False                False   \n",
              "mntsweetproducts                    False                False   \n",
              "mntfishproducts                     False                False   \n",
              "education                           False                False   \n",
              "income                               True                 True   \n",
              "recency                             False                False   \n",
              "tempo_decorrido_cadastro            False                False   \n",
              "teenhome                            False                False   \n",
              "\n",
              "                          numwebpurchases  mntgoldprods  mntsweetproducts  \\\n",
              "acceptedcmp1                        False         False             False   \n",
              "acceptedcmp5                        False         False             False   \n",
              "acceptedcmp3                        False         False             False   \n",
              "acceptedcmp4                        False         False             False   \n",
              "acceptedcmp2                        False         False             False   \n",
              "mntwines                            False         False             False   \n",
              "mntmeatproducts                     False         False             False   \n",
              "numcatalogpurchases                 False         False             False   \n",
              "numwebpurchases                      True         False             False   \n",
              "mntgoldprods                        False          True             False   \n",
              "mntsweetproducts                    False         False              True   \n",
              "mntfishproducts                     False         False             False   \n",
              "education                           False         False             False   \n",
              "income                              False         False             False   \n",
              "recency                             False         False             False   \n",
              "tempo_decorrido_cadastro            False         False             False   \n",
              "teenhome                            False         False             False   \n",
              "\n",
              "                          mntfishproducts  education  income  recency  \\\n",
              "acceptedcmp1                        False      False   False    False   \n",
              "acceptedcmp5                        False      False   False    False   \n",
              "acceptedcmp3                        False      False   False    False   \n",
              "acceptedcmp4                        False      False   False    False   \n",
              "acceptedcmp2                        False      False   False    False   \n",
              "mntwines                            False      False    True    False   \n",
              "mntmeatproducts                     False      False    True    False   \n",
              "numcatalogpurchases                 False      False    True    False   \n",
              "numwebpurchases                     False      False   False    False   \n",
              "mntgoldprods                        False      False   False    False   \n",
              "mntsweetproducts                    False      False   False    False   \n",
              "mntfishproducts                      True      False   False    False   \n",
              "education                           False       True   False    False   \n",
              "income                              False      False    True    False   \n",
              "recency                             False      False   False     True   \n",
              "tempo_decorrido_cadastro            False      False   False    False   \n",
              "teenhome                            False      False   False    False   \n",
              "\n",
              "                          tempo_decorrido_cadastro  teenhome  \n",
              "acceptedcmp1                                 False     False  \n",
              "acceptedcmp5                                 False     False  \n",
              "acceptedcmp3                                 False     False  \n",
              "acceptedcmp4                                 False     False  \n",
              "acceptedcmp2                                 False     False  \n",
              "mntwines                                     False     False  \n",
              "mntmeatproducts                              False     False  \n",
              "numcatalogpurchases                          False     False  \n",
              "numwebpurchases                              False     False  \n",
              "mntgoldprods                                 False     False  \n",
              "mntsweetproducts                             False     False  \n",
              "mntfishproducts                              False     False  \n",
              "education                                    False     False  \n",
              "income                                       False     False  \n",
              "recency                                      False     False  \n",
              "tempo_decorrido_cadastro                      True     False  \n",
              "teenhome                                     False      True  "
            ],
            "text/html": [
              "\n",
              "  <div id=\"df-c22b6e26-aa0e-46fd-a3ff-eacc040f5a19\" class=\"colab-df-container\">\n",
              "    <div>\n",
              "<style scoped>\n",
              "    .dataframe tbody tr th:only-of-type {\n",
              "        vertical-align: middle;\n",
              "    }\n",
              "\n",
              "    .dataframe tbody tr th {\n",
              "        vertical-align: top;\n",
              "    }\n",
              "\n",
              "    .dataframe thead th {\n",
              "        text-align: right;\n",
              "    }\n",
              "</style>\n",
              "<table border=\"1\" class=\"dataframe\">\n",
              "  <thead>\n",
              "    <tr style=\"text-align: right;\">\n",
              "      <th></th>\n",
              "      <th>acceptedcmp1</th>\n",
              "      <th>acceptedcmp5</th>\n",
              "      <th>acceptedcmp3</th>\n",
              "      <th>acceptedcmp4</th>\n",
              "      <th>acceptedcmp2</th>\n",
              "      <th>mntwines</th>\n",
              "      <th>mntmeatproducts</th>\n",
              "      <th>numcatalogpurchases</th>\n",
              "      <th>numwebpurchases</th>\n",
              "      <th>mntgoldprods</th>\n",
              "      <th>mntsweetproducts</th>\n",
              "      <th>mntfishproducts</th>\n",
              "      <th>education</th>\n",
              "      <th>income</th>\n",
              "      <th>recency</th>\n",
              "      <th>tempo_decorrido_cadastro</th>\n",
              "      <th>teenhome</th>\n",
              "    </tr>\n",
              "  </thead>\n",
              "  <tbody>\n",
              "    <tr>\n",
              "      <th>acceptedcmp1</th>\n",
              "      <td>True</td>\n",
              "      <td>False</td>\n",
              "      <td>False</td>\n",
              "      <td>False</td>\n",
              "      <td>False</td>\n",
              "      <td>False</td>\n",
              "      <td>False</td>\n",
              "      <td>False</td>\n",
              "      <td>False</td>\n",
              "      <td>False</td>\n",
              "      <td>False</td>\n",
              "      <td>False</td>\n",
              "      <td>False</td>\n",
              "      <td>False</td>\n",
              "      <td>False</td>\n",
              "      <td>False</td>\n",
              "      <td>False</td>\n",
              "    </tr>\n",
              "    <tr>\n",
              "      <th>acceptedcmp5</th>\n",
              "      <td>False</td>\n",
              "      <td>True</td>\n",
              "      <td>False</td>\n",
              "      <td>False</td>\n",
              "      <td>False</td>\n",
              "      <td>False</td>\n",
              "      <td>False</td>\n",
              "      <td>False</td>\n",
              "      <td>False</td>\n",
              "      <td>False</td>\n",
              "      <td>False</td>\n",
              "      <td>False</td>\n",
              "      <td>False</td>\n",
              "      <td>False</td>\n",
              "      <td>False</td>\n",
              "      <td>False</td>\n",
              "      <td>False</td>\n",
              "    </tr>\n",
              "    <tr>\n",
              "      <th>acceptedcmp3</th>\n",
              "      <td>False</td>\n",
              "      <td>False</td>\n",
              "      <td>True</td>\n",
              "      <td>False</td>\n",
              "      <td>False</td>\n",
              "      <td>False</td>\n",
              "      <td>False</td>\n",
              "      <td>False</td>\n",
              "      <td>False</td>\n",
              "      <td>False</td>\n",
              "      <td>False</td>\n",
              "      <td>False</td>\n",
              "      <td>False</td>\n",
              "      <td>False</td>\n",
              "      <td>False</td>\n",
              "      <td>False</td>\n",
              "      <td>False</td>\n",
              "    </tr>\n",
              "    <tr>\n",
              "      <th>acceptedcmp4</th>\n",
              "      <td>False</td>\n",
              "      <td>False</td>\n",
              "      <td>False</td>\n",
              "      <td>True</td>\n",
              "      <td>False</td>\n",
              "      <td>False</td>\n",
              "      <td>False</td>\n",
              "      <td>False</td>\n",
              "      <td>False</td>\n",
              "      <td>False</td>\n",
              "      <td>False</td>\n",
              "      <td>False</td>\n",
              "      <td>False</td>\n",
              "      <td>False</td>\n",
              "      <td>False</td>\n",
              "      <td>False</td>\n",
              "      <td>False</td>\n",
              "    </tr>\n",
              "    <tr>\n",
              "      <th>acceptedcmp2</th>\n",
              "      <td>False</td>\n",
              "      <td>False</td>\n",
              "      <td>False</td>\n",
              "      <td>False</td>\n",
              "      <td>True</td>\n",
              "      <td>False</td>\n",
              "      <td>False</td>\n",
              "      <td>False</td>\n",
              "      <td>False</td>\n",
              "      <td>False</td>\n",
              "      <td>False</td>\n",
              "      <td>False</td>\n",
              "      <td>False</td>\n",
              "      <td>False</td>\n",
              "      <td>False</td>\n",
              "      <td>False</td>\n",
              "      <td>False</td>\n",
              "    </tr>\n",
              "    <tr>\n",
              "      <th>mntwines</th>\n",
              "      <td>False</td>\n",
              "      <td>False</td>\n",
              "      <td>False</td>\n",
              "      <td>False</td>\n",
              "      <td>False</td>\n",
              "      <td>True</td>\n",
              "      <td>False</td>\n",
              "      <td>True</td>\n",
              "      <td>False</td>\n",
              "      <td>False</td>\n",
              "      <td>False</td>\n",
              "      <td>False</td>\n",
              "      <td>False</td>\n",
              "      <td>True</td>\n",
              "      <td>False</td>\n",
              "      <td>False</td>\n",
              "      <td>False</td>\n",
              "    </tr>\n",
              "    <tr>\n",
              "      <th>mntmeatproducts</th>\n",
              "      <td>False</td>\n",
              "      <td>False</td>\n",
              "      <td>False</td>\n",
              "      <td>False</td>\n",
              "      <td>False</td>\n",
              "      <td>False</td>\n",
              "      <td>True</td>\n",
              "      <td>True</td>\n",
              "      <td>False</td>\n",
              "      <td>False</td>\n",
              "      <td>False</td>\n",
              "      <td>False</td>\n",
              "      <td>False</td>\n",
              "      <td>True</td>\n",
              "      <td>False</td>\n",
              "      <td>False</td>\n",
              "      <td>False</td>\n",
              "    </tr>\n",
              "    <tr>\n",
              "      <th>numcatalogpurchases</th>\n",
              "      <td>False</td>\n",
              "      <td>False</td>\n",
              "      <td>False</td>\n",
              "      <td>False</td>\n",
              "      <td>False</td>\n",
              "      <td>True</td>\n",
              "      <td>True</td>\n",
              "      <td>True</td>\n",
              "      <td>False</td>\n",
              "      <td>False</td>\n",
              "      <td>False</td>\n",
              "      <td>False</td>\n",
              "      <td>False</td>\n",
              "      <td>True</td>\n",
              "      <td>False</td>\n",
              "      <td>False</td>\n",
              "      <td>False</td>\n",
              "    </tr>\n",
              "    <tr>\n",
              "      <th>numwebpurchases</th>\n",
              "      <td>False</td>\n",
              "      <td>False</td>\n",
              "      <td>False</td>\n",
              "      <td>False</td>\n",
              "      <td>False</td>\n",
              "      <td>False</td>\n",
              "      <td>False</td>\n",
              "      <td>False</td>\n",
              "      <td>True</td>\n",
              "      <td>False</td>\n",
              "      <td>False</td>\n",
              "      <td>False</td>\n",
              "      <td>False</td>\n",
              "      <td>False</td>\n",
              "      <td>False</td>\n",
              "      <td>False</td>\n",
              "      <td>False</td>\n",
              "    </tr>\n",
              "    <tr>\n",
              "      <th>mntgoldprods</th>\n",
              "      <td>False</td>\n",
              "      <td>False</td>\n",
              "      <td>False</td>\n",
              "      <td>False</td>\n",
              "      <td>False</td>\n",
              "      <td>False</td>\n",
              "      <td>False</td>\n",
              "      <td>False</td>\n",
              "      <td>False</td>\n",
              "      <td>True</td>\n",
              "      <td>False</td>\n",
              "      <td>False</td>\n",
              "      <td>False</td>\n",
              "      <td>False</td>\n",
              "      <td>False</td>\n",
              "      <td>False</td>\n",
              "      <td>False</td>\n",
              "    </tr>\n",
              "    <tr>\n",
              "      <th>mntsweetproducts</th>\n",
              "      <td>False</td>\n",
              "      <td>False</td>\n",
              "      <td>False</td>\n",
              "      <td>False</td>\n",
              "      <td>False</td>\n",
              "      <td>False</td>\n",
              "      <td>False</td>\n",
              "      <td>False</td>\n",
              "      <td>False</td>\n",
              "      <td>False</td>\n",
              "      <td>True</td>\n",
              "      <td>False</td>\n",
              "      <td>False</td>\n",
              "      <td>False</td>\n",
              "      <td>False</td>\n",
              "      <td>False</td>\n",
              "      <td>False</td>\n",
              "    </tr>\n",
              "    <tr>\n",
              "      <th>mntfishproducts</th>\n",
              "      <td>False</td>\n",
              "      <td>False</td>\n",
              "      <td>False</td>\n",
              "      <td>False</td>\n",
              "      <td>False</td>\n",
              "      <td>False</td>\n",
              "      <td>False</td>\n",
              "      <td>False</td>\n",
              "      <td>False</td>\n",
              "      <td>False</td>\n",
              "      <td>False</td>\n",
              "      <td>True</td>\n",
              "      <td>False</td>\n",
              "      <td>False</td>\n",
              "      <td>False</td>\n",
              "      <td>False</td>\n",
              "      <td>False</td>\n",
              "    </tr>\n",
              "    <tr>\n",
              "      <th>education</th>\n",
              "      <td>False</td>\n",
              "      <td>False</td>\n",
              "      <td>False</td>\n",
              "      <td>False</td>\n",
              "      <td>False</td>\n",
              "      <td>False</td>\n",
              "      <td>False</td>\n",
              "      <td>False</td>\n",
              "      <td>False</td>\n",
              "      <td>False</td>\n",
              "      <td>False</td>\n",
              "      <td>False</td>\n",
              "      <td>True</td>\n",
              "      <td>False</td>\n",
              "      <td>False</td>\n",
              "      <td>False</td>\n",
              "      <td>False</td>\n",
              "    </tr>\n",
              "    <tr>\n",
              "      <th>income</th>\n",
              "      <td>False</td>\n",
              "      <td>False</td>\n",
              "      <td>False</td>\n",
              "      <td>False</td>\n",
              "      <td>False</td>\n",
              "      <td>True</td>\n",
              "      <td>True</td>\n",
              "      <td>True</td>\n",
              "      <td>False</td>\n",
              "      <td>False</td>\n",
              "      <td>False</td>\n",
              "      <td>False</td>\n",
              "      <td>False</td>\n",
              "      <td>True</td>\n",
              "      <td>False</td>\n",
              "      <td>False</td>\n",
              "      <td>False</td>\n",
              "    </tr>\n",
              "    <tr>\n",
              "      <th>recency</th>\n",
              "      <td>False</td>\n",
              "      <td>False</td>\n",
              "      <td>False</td>\n",
              "      <td>False</td>\n",
              "      <td>False</td>\n",
              "      <td>False</td>\n",
              "      <td>False</td>\n",
              "      <td>False</td>\n",
              "      <td>False</td>\n",
              "      <td>False</td>\n",
              "      <td>False</td>\n",
              "      <td>False</td>\n",
              "      <td>False</td>\n",
              "      <td>False</td>\n",
              "      <td>True</td>\n",
              "      <td>False</td>\n",
              "      <td>False</td>\n",
              "    </tr>\n",
              "    <tr>\n",
              "      <th>tempo_decorrido_cadastro</th>\n",
              "      <td>False</td>\n",
              "      <td>False</td>\n",
              "      <td>False</td>\n",
              "      <td>False</td>\n",
              "      <td>False</td>\n",
              "      <td>False</td>\n",
              "      <td>False</td>\n",
              "      <td>False</td>\n",
              "      <td>False</td>\n",
              "      <td>False</td>\n",
              "      <td>False</td>\n",
              "      <td>False</td>\n",
              "      <td>False</td>\n",
              "      <td>False</td>\n",
              "      <td>False</td>\n",
              "      <td>True</td>\n",
              "      <td>False</td>\n",
              "    </tr>\n",
              "    <tr>\n",
              "      <th>teenhome</th>\n",
              "      <td>False</td>\n",
              "      <td>False</td>\n",
              "      <td>False</td>\n",
              "      <td>False</td>\n",
              "      <td>False</td>\n",
              "      <td>False</td>\n",
              "      <td>False</td>\n",
              "      <td>False</td>\n",
              "      <td>False</td>\n",
              "      <td>False</td>\n",
              "      <td>False</td>\n",
              "      <td>False</td>\n",
              "      <td>False</td>\n",
              "      <td>False</td>\n",
              "      <td>False</td>\n",
              "      <td>False</td>\n",
              "      <td>True</td>\n",
              "    </tr>\n",
              "  </tbody>\n",
              "</table>\n",
              "</div>\n",
              "    <div class=\"colab-df-buttons\">\n",
              "\n",
              "  <div class=\"colab-df-container\">\n",
              "    <button class=\"colab-df-convert\" onclick=\"convertToInteractive('df-c22b6e26-aa0e-46fd-a3ff-eacc040f5a19')\"\n",
              "            title=\"Convert this dataframe to an interactive table.\"\n",
              "            style=\"display:none;\">\n",
              "\n",
              "  <svg xmlns=\"http://www.w3.org/2000/svg\" height=\"24px\" viewBox=\"0 -960 960 960\">\n",
              "    <path d=\"M120-120v-720h720v720H120Zm60-500h600v-160H180v160Zm220 220h160v-160H400v160Zm0 220h160v-160H400v160ZM180-400h160v-160H180v160Zm440 0h160v-160H620v160ZM180-180h160v-160H180v160Zm440 0h160v-160H620v160Z\"/>\n",
              "  </svg>\n",
              "    </button>\n",
              "\n",
              "  <style>\n",
              "    .colab-df-container {\n",
              "      display:flex;\n",
              "      gap: 12px;\n",
              "    }\n",
              "\n",
              "    .colab-df-convert {\n",
              "      background-color: #E8F0FE;\n",
              "      border: none;\n",
              "      border-radius: 50%;\n",
              "      cursor: pointer;\n",
              "      display: none;\n",
              "      fill: #1967D2;\n",
              "      height: 32px;\n",
              "      padding: 0 0 0 0;\n",
              "      width: 32px;\n",
              "    }\n",
              "\n",
              "    .colab-df-convert:hover {\n",
              "      background-color: #E2EBFA;\n",
              "      box-shadow: 0px 1px 2px rgba(60, 64, 67, 0.3), 0px 1px 3px 1px rgba(60, 64, 67, 0.15);\n",
              "      fill: #174EA6;\n",
              "    }\n",
              "\n",
              "    .colab-df-buttons div {\n",
              "      margin-bottom: 4px;\n",
              "    }\n",
              "\n",
              "    [theme=dark] .colab-df-convert {\n",
              "      background-color: #3B4455;\n",
              "      fill: #D2E3FC;\n",
              "    }\n",
              "\n",
              "    [theme=dark] .colab-df-convert:hover {\n",
              "      background-color: #434B5C;\n",
              "      box-shadow: 0px 1px 3px 1px rgba(0, 0, 0, 0.15);\n",
              "      filter: drop-shadow(0px 1px 2px rgba(0, 0, 0, 0.3));\n",
              "      fill: #FFFFFF;\n",
              "    }\n",
              "  </style>\n",
              "\n",
              "    <script>\n",
              "      const buttonEl =\n",
              "        document.querySelector('#df-c22b6e26-aa0e-46fd-a3ff-eacc040f5a19 button.colab-df-convert');\n",
              "      buttonEl.style.display =\n",
              "        google.colab.kernel.accessAllowed ? 'block' : 'none';\n",
              "\n",
              "      async function convertToInteractive(key) {\n",
              "        const element = document.querySelector('#df-c22b6e26-aa0e-46fd-a3ff-eacc040f5a19');\n",
              "        const dataTable =\n",
              "          await google.colab.kernel.invokeFunction('convertToInteractive',\n",
              "                                                    [key], {});\n",
              "        if (!dataTable) return;\n",
              "\n",
              "        const docLinkHtml = 'Like what you see? Visit the ' +\n",
              "          '<a target=\"_blank\" href=https://colab.research.google.com/notebooks/data_table.ipynb>data table notebook</a>'\n",
              "          + ' to learn more about interactive tables.';\n",
              "        element.innerHTML = '';\n",
              "        dataTable['output_type'] = 'display_data';\n",
              "        await google.colab.output.renderOutput(dataTable, element);\n",
              "        const docLink = document.createElement('div');\n",
              "        docLink.innerHTML = docLinkHtml;\n",
              "        element.appendChild(docLink);\n",
              "      }\n",
              "    </script>\n",
              "  </div>\n",
              "\n",
              "\n",
              "<div id=\"df-fe94541d-a8ba-46df-86c5-aa24878b4660\">\n",
              "  <button class=\"colab-df-quickchart\" onclick=\"quickchart('df-fe94541d-a8ba-46df-86c5-aa24878b4660')\"\n",
              "            title=\"Suggest charts\"\n",
              "            style=\"display:none;\">\n",
              "\n",
              "<svg xmlns=\"http://www.w3.org/2000/svg\" height=\"24px\"viewBox=\"0 0 24 24\"\n",
              "     width=\"24px\">\n",
              "    <g>\n",
              "        <path d=\"M19 3H5c-1.1 0-2 .9-2 2v14c0 1.1.9 2 2 2h14c1.1 0 2-.9 2-2V5c0-1.1-.9-2-2-2zM9 17H7v-7h2v7zm4 0h-2V7h2v10zm4 0h-2v-4h2v4z\"/>\n",
              "    </g>\n",
              "</svg>\n",
              "  </button>\n",
              "\n",
              "<style>\n",
              "  .colab-df-quickchart {\n",
              "      --bg-color: #E8F0FE;\n",
              "      --fill-color: #1967D2;\n",
              "      --hover-bg-color: #E2EBFA;\n",
              "      --hover-fill-color: #174EA6;\n",
              "      --disabled-fill-color: #AAA;\n",
              "      --disabled-bg-color: #DDD;\n",
              "  }\n",
              "\n",
              "  [theme=dark] .colab-df-quickchart {\n",
              "      --bg-color: #3B4455;\n",
              "      --fill-color: #D2E3FC;\n",
              "      --hover-bg-color: #434B5C;\n",
              "      --hover-fill-color: #FFFFFF;\n",
              "      --disabled-bg-color: #3B4455;\n",
              "      --disabled-fill-color: #666;\n",
              "  }\n",
              "\n",
              "  .colab-df-quickchart {\n",
              "    background-color: var(--bg-color);\n",
              "    border: none;\n",
              "    border-radius: 50%;\n",
              "    cursor: pointer;\n",
              "    display: none;\n",
              "    fill: var(--fill-color);\n",
              "    height: 32px;\n",
              "    padding: 0;\n",
              "    width: 32px;\n",
              "  }\n",
              "\n",
              "  .colab-df-quickchart:hover {\n",
              "    background-color: var(--hover-bg-color);\n",
              "    box-shadow: 0 1px 2px rgba(60, 64, 67, 0.3), 0 1px 3px 1px rgba(60, 64, 67, 0.15);\n",
              "    fill: var(--button-hover-fill-color);\n",
              "  }\n",
              "\n",
              "  .colab-df-quickchart-complete:disabled,\n",
              "  .colab-df-quickchart-complete:disabled:hover {\n",
              "    background-color: var(--disabled-bg-color);\n",
              "    fill: var(--disabled-fill-color);\n",
              "    box-shadow: none;\n",
              "  }\n",
              "\n",
              "  .colab-df-spinner {\n",
              "    border: 2px solid var(--fill-color);\n",
              "    border-color: transparent;\n",
              "    border-bottom-color: var(--fill-color);\n",
              "    animation:\n",
              "      spin 1s steps(1) infinite;\n",
              "  }\n",
              "\n",
              "  @keyframes spin {\n",
              "    0% {\n",
              "      border-color: transparent;\n",
              "      border-bottom-color: var(--fill-color);\n",
              "      border-left-color: var(--fill-color);\n",
              "    }\n",
              "    20% {\n",
              "      border-color: transparent;\n",
              "      border-left-color: var(--fill-color);\n",
              "      border-top-color: var(--fill-color);\n",
              "    }\n",
              "    30% {\n",
              "      border-color: transparent;\n",
              "      border-left-color: var(--fill-color);\n",
              "      border-top-color: var(--fill-color);\n",
              "      border-right-color: var(--fill-color);\n",
              "    }\n",
              "    40% {\n",
              "      border-color: transparent;\n",
              "      border-right-color: var(--fill-color);\n",
              "      border-top-color: var(--fill-color);\n",
              "    }\n",
              "    60% {\n",
              "      border-color: transparent;\n",
              "      border-right-color: var(--fill-color);\n",
              "    }\n",
              "    80% {\n",
              "      border-color: transparent;\n",
              "      border-right-color: var(--fill-color);\n",
              "      border-bottom-color: var(--fill-color);\n",
              "    }\n",
              "    90% {\n",
              "      border-color: transparent;\n",
              "      border-bottom-color: var(--fill-color);\n",
              "    }\n",
              "  }\n",
              "</style>\n",
              "\n",
              "  <script>\n",
              "    async function quickchart(key) {\n",
              "      const quickchartButtonEl =\n",
              "        document.querySelector('#' + key + ' button');\n",
              "      quickchartButtonEl.disabled = true;  // To prevent multiple clicks.\n",
              "      quickchartButtonEl.classList.add('colab-df-spinner');\n",
              "      try {\n",
              "        const charts = await google.colab.kernel.invokeFunction(\n",
              "            'suggestCharts', [key], {});\n",
              "      } catch (error) {\n",
              "        console.error('Error during call to suggestCharts:', error);\n",
              "      }\n",
              "      quickchartButtonEl.classList.remove('colab-df-spinner');\n",
              "      quickchartButtonEl.classList.add('colab-df-quickchart-complete');\n",
              "    }\n",
              "    (() => {\n",
              "      let quickchartButtonEl =\n",
              "        document.querySelector('#df-fe94541d-a8ba-46df-86c5-aa24878b4660 button');\n",
              "      quickchartButtonEl.style.display =\n",
              "        google.colab.kernel.accessAllowed ? 'block' : 'none';\n",
              "    })();\n",
              "  </script>\n",
              "</div>\n",
              "\n",
              "  <div id=\"id_dad81ca5-9e2b-4e21-a45e-a435eb292c35\">\n",
              "    <style>\n",
              "      .colab-df-generate {\n",
              "        background-color: #E8F0FE;\n",
              "        border: none;\n",
              "        border-radius: 50%;\n",
              "        cursor: pointer;\n",
              "        display: none;\n",
              "        fill: #1967D2;\n",
              "        height: 32px;\n",
              "        padding: 0 0 0 0;\n",
              "        width: 32px;\n",
              "      }\n",
              "\n",
              "      .colab-df-generate:hover {\n",
              "        background-color: #E2EBFA;\n",
              "        box-shadow: 0px 1px 2px rgba(60, 64, 67, 0.3), 0px 1px 3px 1px rgba(60, 64, 67, 0.15);\n",
              "        fill: #174EA6;\n",
              "      }\n",
              "\n",
              "      [theme=dark] .colab-df-generate {\n",
              "        background-color: #3B4455;\n",
              "        fill: #D2E3FC;\n",
              "      }\n",
              "\n",
              "      [theme=dark] .colab-df-generate:hover {\n",
              "        background-color: #434B5C;\n",
              "        box-shadow: 0px 1px 3px 1px rgba(0, 0, 0, 0.15);\n",
              "        filter: drop-shadow(0px 1px 2px rgba(0, 0, 0, 0.3));\n",
              "        fill: #FFFFFF;\n",
              "      }\n",
              "    </style>\n",
              "    <button class=\"colab-df-generate\" onclick=\"generateWithVariable('correl_var')\"\n",
              "            title=\"Generate code using this dataframe.\"\n",
              "            style=\"display:none;\">\n",
              "\n",
              "  <svg xmlns=\"http://www.w3.org/2000/svg\" height=\"24px\"viewBox=\"0 0 24 24\"\n",
              "       width=\"24px\">\n",
              "    <path d=\"M7,19H8.4L18.45,9,17,7.55,7,17.6ZM5,21V16.75L18.45,3.32a2,2,0,0,1,2.83,0l1.4,1.43a1.91,1.91,0,0,1,.58,1.4,1.91,1.91,0,0,1-.58,1.4L9.25,21ZM18.45,9,17,7.55Zm-12,3A5.31,5.31,0,0,0,4.9,8.1,5.31,5.31,0,0,0,1,6.5,5.31,5.31,0,0,0,4.9,4.9,5.31,5.31,0,0,0,6.5,1,5.31,5.31,0,0,0,8.1,4.9,5.31,5.31,0,0,0,12,6.5,5.46,5.46,0,0,0,6.5,12Z\"/>\n",
              "  </svg>\n",
              "    </button>\n",
              "    <script>\n",
              "      (() => {\n",
              "      const buttonEl =\n",
              "        document.querySelector('#id_dad81ca5-9e2b-4e21-a45e-a435eb292c35 button.colab-df-generate');\n",
              "      buttonEl.style.display =\n",
              "        google.colab.kernel.accessAllowed ? 'block' : 'none';\n",
              "\n",
              "      buttonEl.onclick = () => {\n",
              "        google.colab.notebook.generateWithVariable('correl_var');\n",
              "      }\n",
              "      })();\n",
              "    </script>\n",
              "  </div>\n",
              "\n",
              "    </div>\n",
              "  </div>\n"
            ],
            "application/vnd.google.colaboratory.intrinsic+json": {
              "type": "dataframe",
              "variable_name": "correl_var",
              "summary": "{\n  \"name\": \"correl_var\",\n  \"rows\": 17,\n  \"fields\": [\n    {\n      \"column\": \"acceptedcmp1\",\n      \"properties\": {\n        \"dtype\": \"boolean\",\n        \"num_unique_values\": 2,\n        \"samples\": [\n          false,\n          true\n        ],\n        \"semantic_type\": \"\",\n        \"description\": \"\"\n      }\n    },\n    {\n      \"column\": \"acceptedcmp5\",\n      \"properties\": {\n        \"dtype\": \"boolean\",\n        \"num_unique_values\": 2,\n        \"samples\": [\n          true,\n          false\n        ],\n        \"semantic_type\": \"\",\n        \"description\": \"\"\n      }\n    },\n    {\n      \"column\": \"acceptedcmp3\",\n      \"properties\": {\n        \"dtype\": \"boolean\",\n        \"num_unique_values\": 2,\n        \"samples\": [\n          true,\n          false\n        ],\n        \"semantic_type\": \"\",\n        \"description\": \"\"\n      }\n    },\n    {\n      \"column\": \"acceptedcmp4\",\n      \"properties\": {\n        \"dtype\": \"boolean\",\n        \"num_unique_values\": 2,\n        \"samples\": [\n          true,\n          false\n        ],\n        \"semantic_type\": \"\",\n        \"description\": \"\"\n      }\n    },\n    {\n      \"column\": \"acceptedcmp2\",\n      \"properties\": {\n        \"dtype\": \"boolean\",\n        \"num_unique_values\": 2,\n        \"samples\": [\n          true,\n          false\n        ],\n        \"semantic_type\": \"\",\n        \"description\": \"\"\n      }\n    },\n    {\n      \"column\": \"mntwines\",\n      \"properties\": {\n        \"dtype\": \"boolean\",\n        \"num_unique_values\": 2,\n        \"samples\": [\n          true,\n          false\n        ],\n        \"semantic_type\": \"\",\n        \"description\": \"\"\n      }\n    },\n    {\n      \"column\": \"mntmeatproducts\",\n      \"properties\": {\n        \"dtype\": \"boolean\",\n        \"num_unique_values\": 2,\n        \"samples\": [\n          true,\n          false\n        ],\n        \"semantic_type\": \"\",\n        \"description\": \"\"\n      }\n    },\n    {\n      \"column\": \"numcatalogpurchases\",\n      \"properties\": {\n        \"dtype\": \"boolean\",\n        \"num_unique_values\": 2,\n        \"samples\": [\n          true,\n          false\n        ],\n        \"semantic_type\": \"\",\n        \"description\": \"\"\n      }\n    },\n    {\n      \"column\": \"numwebpurchases\",\n      \"properties\": {\n        \"dtype\": \"boolean\",\n        \"num_unique_values\": 2,\n        \"samples\": [\n          true,\n          false\n        ],\n        \"semantic_type\": \"\",\n        \"description\": \"\"\n      }\n    },\n    {\n      \"column\": \"mntgoldprods\",\n      \"properties\": {\n        \"dtype\": \"boolean\",\n        \"num_unique_values\": 2,\n        \"samples\": [\n          true,\n          false\n        ],\n        \"semantic_type\": \"\",\n        \"description\": \"\"\n      }\n    },\n    {\n      \"column\": \"mntsweetproducts\",\n      \"properties\": {\n        \"dtype\": \"boolean\",\n        \"num_unique_values\": 2,\n        \"samples\": [\n          true,\n          false\n        ],\n        \"semantic_type\": \"\",\n        \"description\": \"\"\n      }\n    },\n    {\n      \"column\": \"mntfishproducts\",\n      \"properties\": {\n        \"dtype\": \"boolean\",\n        \"num_unique_values\": 2,\n        \"samples\": [\n          true,\n          false\n        ],\n        \"semantic_type\": \"\",\n        \"description\": \"\"\n      }\n    },\n    {\n      \"column\": \"education\",\n      \"properties\": {\n        \"dtype\": \"boolean\",\n        \"num_unique_values\": 2,\n        \"samples\": [\n          true,\n          false\n        ],\n        \"semantic_type\": \"\",\n        \"description\": \"\"\n      }\n    },\n    {\n      \"column\": \"income\",\n      \"properties\": {\n        \"dtype\": \"boolean\",\n        \"num_unique_values\": 2,\n        \"samples\": [\n          true,\n          false\n        ],\n        \"semantic_type\": \"\",\n        \"description\": \"\"\n      }\n    },\n    {\n      \"column\": \"recency\",\n      \"properties\": {\n        \"dtype\": \"boolean\",\n        \"num_unique_values\": 2,\n        \"samples\": [\n          true,\n          false\n        ],\n        \"semantic_type\": \"\",\n        \"description\": \"\"\n      }\n    },\n    {\n      \"column\": \"tempo_decorrido_cadastro\",\n      \"properties\": {\n        \"dtype\": \"boolean\",\n        \"num_unique_values\": 2,\n        \"samples\": [\n          true,\n          false\n        ],\n        \"semantic_type\": \"\",\n        \"description\": \"\"\n      }\n    },\n    {\n      \"column\": \"teenhome\",\n      \"properties\": {\n        \"dtype\": \"boolean\",\n        \"num_unique_values\": 2,\n        \"samples\": [\n          true,\n          false\n        ],\n        \"semantic_type\": \"\",\n        \"description\": \"\"\n      }\n    }\n  ]\n}"
            }
          },
          "metadata": {},
          "execution_count": 50
        }
      ]
    },
    {
      "cell_type": "code",
      "source": [
        "# Reavaliando a correlação percebemos conexão com algumas variáveis.\n",
        "# Exemplo: Renda, compra de vinho, carnes e compras por catálogo estão fortemente correlacionados entre si, sendo assim, não seremos redundantes, nos atendo a variável renda."
      ],
      "metadata": {
        "id": "BBE-As5g8dvE"
      },
      "execution_count": 51,
      "outputs": []
    },
    {
      "cell_type": "code",
      "source": [
        "colunas_usadas = ['numwebpurchases','income', 'tempo_decorrido_cadastro', 'recency', 'acceptedcmp1','acceptedcmp5','acceptedcmp3','acceptedcmp4','acceptedcmp2','response', 'education']"
      ],
      "metadata": {
        "id": "uweKQG5CObPi"
      },
      "execution_count": 52,
      "outputs": []
    },
    {
      "cell_type": "code",
      "source": [
        "# Vou usar as médias e os desvios padrão para determinar valores aceitáveis para as variáveis utilizadas."
      ],
      "metadata": {
        "id": "pSrfZIHniaaY"
      },
      "execution_count": 53,
      "outputs": []
    },
    {
      "cell_type": "code",
      "source": [
        "threshold = .5\n",
        "for coluna in colunas_usadas:\n",
        "  print(f\"{coluna}:\\nMínimo: {describe[coluna]['mean'] - threshold * describe[coluna]['std']}\\nMédia: {describe[coluna]['mean']}\\nMáximo: {describe[coluna]['mean'] + threshold * describe[coluna]['std']}\\n\\n\")"
      ],
      "metadata": {
        "colab": {
          "base_uri": "https://localhost:8080/"
        },
        "id": "4VZfYvlOUeth",
        "outputId": "f2d8138c-2972-41a2-b880-5b82d32df3d9"
      },
      "execution_count": 54,
      "outputs": [
        {
          "output_type": "stream",
          "name": "stdout",
          "text": [
            "numwebpurchases:\n",
            "Mínimo: 3.5791274889554607\n",
            "Média: 4.931034482758621\n",
            "Máximo: 6.282941476561781\n",
            "\n",
            "\n",
            "income:\n",
            "Mínimo: 43982.20142758434\n",
            "Média: 55366.528735632186\n",
            "Máximo: 66750.85604368003\n",
            "\n",
            "\n",
            "tempo_decorrido_cadastro:\n",
            "Mínimo: 3939.7144146118267\n",
            "Média: 4038.647509578544\n",
            "Máximo: 4137.580604545261\n",
            "\n",
            "\n",
            "recency:\n",
            "Mínimo: 21.341241133432742\n",
            "Média: 35.47892720306513\n",
            "Máximo: 49.61661327269752\n",
            "\n",
            "\n",
            "acceptedcmp1:\n",
            "Mínimo: -0.010168697847097147\n",
            "Média: 0.1839080459770115\n",
            "Máximo: 0.37798478980112016\n",
            "\n",
            "\n",
            "acceptedcmp5:\n",
            "Mínimo: 0.00890687401489032\n",
            "Média: 0.21455938697318008\n",
            "Máximo: 0.42021189993146985\n",
            "\n",
            "\n",
            "acceptedcmp3:\n",
            "Mínimo: 0.03239758438730922\n",
            "Média: 0.24904214559386972\n",
            "Máximo: 0.46568670680043023\n",
            "\n",
            "\n",
            "acceptedcmp4:\n",
            "Mínimo: -0.018968580363558446\n",
            "Média: 0.1685823754789272\n",
            "Máximo: 0.3561333313214129\n",
            "\n",
            "\n",
            "acceptedcmp2:\n",
            "Mínimo: -0.059175031259465695\n",
            "Média: 0.04980842911877394\n",
            "Máximo: 0.1587918894970136\n",
            "\n",
            "\n",
            "response:\n",
            "Mínimo: 1.0\n",
            "Média: 1.0\n",
            "Máximo: 1.0\n",
            "\n",
            "\n",
            "education:\n",
            "Mínimo: 2.4722827604770288\n",
            "Média: 2.9118773946360155\n",
            "Máximo: 3.351472028795002\n",
            "\n",
            "\n"
          ]
        }
      ]
    },
    {
      "cell_type": "code",
      "source": [
        "# Condições determinadas:\n",
        "# Realizou uma compra em uma das 3 campanhas foco\n",
        "# E renda superior a 45000MU\n",
        "# ou mais que três compras realizadas pela web\n",
        "# ou última compra a menos que 50 dias\n",
        "# ou cadastro realizado a pelo menos 4000 dias"
      ],
      "metadata": {
        "id": "gH5sufsVih3A"
      },
      "execution_count": 55,
      "outputs": []
    },
    {
      "cell_type": "code",
      "source": [
        "filter_reimpact = ((df_encoded.acceptedcmp1 == 1) |\n",
        "(df_encoded.acceptedcmp3 == 1) |\n",
        "(df_encoded.acceptedcmp5 == 1))\n",
        "df_teste = df_encoded[filter_reimpact]\n",
        "len(df_teste)"
      ],
      "metadata": {
        "colab": {
          "base_uri": "https://localhost:8080/"
        },
        "id": "SDtoNFO1dc8n",
        "outputId": "869a843d-57af-4a71-8424-b36fab177a07"
      },
      "execution_count": 56,
      "outputs": [
        {
          "output_type": "execute_result",
          "data": {
            "text/plain": [
              "275"
            ]
          },
          "metadata": {},
          "execution_count": 56
        }
      ]
    },
    {
      "cell_type": "code",
      "source": [
        "# 18% da amostra coletada já foi atingida por uma campanha e convertida.\n",
        "# 14% da amostra coletada já foi atingida pela campanha 1, 5 ou 3 e convertida, campanhas que tem grande correlação com a campanha atual.\n",
        "# Sendo o break-even em 27% e o lucro mínimo necessário maior que 10,75% (definido pela taxa básica), usarei uma estratégia de reimpacto nas campanhas 1, 3 e 5.\n",
        "# Em adicional colocarei condições restritivas de renda e tempo de cadastro ou última compra ou compras web para diminuir nossa faixa e aumentar a provável conversão.\n",
        "# Com essas alterações ainda fico com alcance de quase 10% da base.\n",
        "# Levando em conta que se trata de uma base de centenas de milhares de clientes, acredito conseguir atingir uma base de pelo menos 10x o tamanho do piloto se necessário."
      ],
      "metadata": {
        "id": "iDGwKwU8dde2"
      },
      "execution_count": 57,
      "outputs": []
    },
    {
      "cell_type": "code",
      "source": [
        "filtro = (\n",
        "((df_encoded.income > 45000) & (\n",
        "(df_encoded.tempo_decorrido_cadastro > 4000) |\n",
        "(df_encoded.recency < 50) |\n",
        "(df_encoded.education >= 2) |\n",
        "(df_encoded.numwebpurchases > 2))) & (\n",
        "((df_encoded.acceptedcmp1 == 1) |\n",
        "(df_encoded.acceptedcmp3 == 1) |\n",
        "(df_encoded.acceptedcmp5 == 1))\n",
        ")\n",
        ")\n"
      ],
      "metadata": {
        "id": "t_yuMuHA-jxF"
      },
      "execution_count": 145,
      "outputs": []
    },
    {
      "cell_type": "code",
      "source": [
        "df_old = df_encoded[colunas_usadas]\n",
        "df_new = df_encoded[colunas_usadas]\n",
        "df_new = df_new[filtro]\n",
        "print(len(df_new)/len(df_old))"
      ],
      "metadata": {
        "colab": {
          "base_uri": "https://localhost:8080/"
        },
        "id": "EHQRNbr7_B5f",
        "outputId": "4d57e0e0-e66d-4e80-af96-1c75ce1a9fdb"
      },
      "execution_count": 146,
      "outputs": [
        {
          "output_type": "stream",
          "name": "stdout",
          "text": [
            "0.10240655401945725\n"
          ]
        }
      ]
    },
    {
      "cell_type": "code",
      "source": [
        "from sklearn.preprocessing import StandardScaler\n",
        "from sklearn.model_selection import train_test_split\n",
        "from sklearn.linear_model import LogisticRegressionCV\n",
        "from sklearn.metrics import accuracy_score, confusion_matrix"
      ],
      "metadata": {
        "id": "5tggoBH4AHO6"
      },
      "execution_count": 147,
      "outputs": []
    },
    {
      "cell_type": "code",
      "source": [
        "scaler = StandardScaler()\n",
        "X = df_encoded.drop('response', axis=1)\n",
        "y = df_encoded.response\n",
        "X = scaler.fit_transform(X)\n",
        "X_train, X_test, y_train, y_test = train_test_split(X, y, test_size=0.3, random_state=42)\n",
        "modelo_antigo = LogisticRegression()\n",
        "modelo_antigo.fit(X_train, y_train)\n",
        "previsoes = modelo_antigo.predict(X_test)\n",
        "print(accuracy_score(y_test, previsoes))\n",
        "print(confusion_matrix(y_test,previsoes))\n",
        "probabilidades_previstas = modelo_antigo.predict_proba(X)[:, 1]\n",
        "taxa_conversao_prevista = (probabilidades_previstas > 0.5).mean() * 100"
      ],
      "metadata": {
        "colab": {
          "base_uri": "https://localhost:8080/"
        },
        "id": "hBMbYc9DB3u_",
        "outputId": "25deb7b3-273b-4a6f-b85b-c693b1ce6899"
      },
      "execution_count": 148,
      "outputs": [
        {
          "output_type": "stream",
          "name": "stdout",
          "text": [
            "0.9129692832764505\n",
            "[[507   4]\n",
            " [ 47  28]]\n"
          ]
        }
      ]
    },
    {
      "cell_type": "code",
      "source": [
        "scaler = StandardScaler()\n",
        "X = df_new.drop('response', axis=1)\n",
        "y = df_new.response\n",
        "X = scaler.fit_transform(X)\n",
        "X_train, X_test, y_train, y_test = train_test_split(X, y, test_size=0.5, random_state=42)\n",
        "modelo_novo = LogisticRegression()\n",
        "modelo_novo.fit(X_train, y_train)\n",
        "previsoes = modelo_novo.predict(X_test)\n",
        "print(accuracy_score(y_test, previsoes))\n",
        "print(confusion_matrix(y_test,previsoes))\n",
        "probabilidades_previstas = modelo_novo.predict_proba(X)[:, 1]\n",
        "taxa_conversao_prevista = (probabilidades_previstas > 0.5).mean() * 100"
      ],
      "metadata": {
        "colab": {
          "base_uri": "https://localhost:8080/"
        },
        "id": "AJViwbT-9iJW",
        "outputId": "c51ea99d-002b-4acb-d0ab-62884a8d34b9"
      },
      "execution_count": 175,
      "outputs": [
        {
          "output_type": "stream",
          "name": "stdout",
          "text": [
            "0.76\n",
            "[[43 13]\n",
            " [11 33]]\n"
          ]
        }
      ]
    },
    {
      "cell_type": "code",
      "source": [
        "taxa_conversao = (np.sum(previsoes)/len(previsoes))*100\n",
        "print(taxa_conversao)\n",
        "print(taxa_conversao_prevista)"
      ],
      "metadata": {
        "colab": {
          "base_uri": "https://localhost:8080/"
        },
        "id": "10JkPsEjEy1D",
        "outputId": "47d7583f-3127-4597-e620-a962bd842e88"
      },
      "execution_count": 176,
      "outputs": [
        {
          "output_type": "stream",
          "name": "stdout",
          "text": [
            "46.0\n",
            "48.0\n"
          ]
        }
      ]
    },
    {
      "cell_type": "code",
      "source": [
        "Aumento da conversão de 13.36% da base limpa para 46% com confiabilidade de quase 76% (ainda baixa, ideal de >90%)\n",
        "Se mantivermos os custos de contato e lucro em caso de conversão para uma base do mesmo tamanho do piloto ~2000 clientes, os resultados seriam:"
      ],
      "metadata": {
        "id": "yDvfxvNTc-jr"
      },
      "execution_count": 177,
      "outputs": []
    },
    {
      "cell_type": "code",
      "source": [
        "revenue = 2000 * taxa_conversao/100. * 11\n",
        "cost = 2000 * 3\n",
        "profit = revenue - cost\n",
        "print(profit)"
      ],
      "metadata": {
        "colab": {
          "base_uri": "https://localhost:8080/"
        },
        "id": "KJSmn3UGoGTX",
        "outputId": "71f5a731-84c0-4f6d-b2f4-1db299155544"
      },
      "execution_count": 178,
      "outputs": [
        {
          "output_type": "stream",
          "name": "stdout",
          "text": [
            "4120.0\n"
          ]
        }
      ]
    },
    {
      "cell_type": "code",
      "source": [
        "# Em resumo, para essa segmentação proposta, o piloto correria de forma a ter conversão de 46% e lucro de 4120MU se mantido o volume de aproximadamente 2000 clientes.\n"
      ],
      "metadata": {
        "id": "1YuF8zq5o16e"
      },
      "execution_count": null,
      "outputs": []
    },
    {
      "cell_type": "code",
      "source": [],
      "metadata": {
        "id": "Skd9xQ7mqH37"
      },
      "execution_count": null,
      "outputs": []
    }
  ]
}