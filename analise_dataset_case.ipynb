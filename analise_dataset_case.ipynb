{
  "nbformat": 4,
  "nbformat_minor": 0,
  "metadata": {
    "colab": {
      "provenance": []
    },
    "kernelspec": {
      "name": "python3",
      "display_name": "Python 3"
    },
    "language_info": {
      "name": "python"
    }
  },
  "cells": [
    {
      "cell_type": "code",
      "execution_count": null,
      "metadata": {
        "id": "wui7eoseaB2j"
      },
      "outputs": [],
      "source": [
        "import pandas as pd\n",
        "import numpy as np\n",
        "from datetime import datetime\n",
        "import seaborn as sns\n",
        "import matplotlib.pyplot as plt\n",
        "from scipy import stats"
      ]
    },
    {
      "cell_type": "code",
      "source": [
        "def snake_case(texto):\n",
        "  \"Transforma um texto em padrão snake. Exemplo: 'Olá Pessoal' > 'ola_pessoal'\"\n",
        "  return texto.strip().lower().replace(' ', '_')"
      ],
      "metadata": {
        "id": "wfi-MRMdkjG-"
      },
      "execution_count": null,
      "outputs": []
    },
    {
      "cell_type": "code",
      "source": [
        "def teste_hipotese(df, parametro_1, parametro_2):\n",
        "  cumpre_parametro_1 = df[df[parametro_1] == 1][parametro_2]\n",
        "  nao_cumpre_parametro_1 = df[df[parametro_1] == 0][parametro_2]\n",
        "  t, p_value = stats.ttest_ind(cumpre_parametro_1, nao_cumpre_parametro_1)\n",
        "  print(t)\n",
        "  print(p_value)"
      ],
      "metadata": {
        "id": "ErN20SjkH94q"
      },
      "execution_count": null,
      "outputs": []
    },
    {
      "cell_type": "code",
      "source": [
        "df = pd.read_csv('retail_case_data.csv')"
      ],
      "metadata": {
        "id": "TDgbVUdkaMas"
      },
      "execution_count": null,
      "outputs": []
    },
    {
      "cell_type": "code",
      "source": [
        "df.columns = [snake_case(coluna) for coluna in df.columns]"
      ],
      "metadata": {
        "id": "SJxFzU_Nkszo"
      },
      "execution_count": null,
      "outputs": []
    },
    {
      "cell_type": "code",
      "source": [
        "df.head()"
      ],
      "metadata": {
        "colab": {
          "base_uri": "https://localhost:8080/",
          "height": 256
        },
        "id": "fP2LJSS746Pc",
        "outputId": "b557bbc9-6b2e-42dc-af75-0338c471231f"
      },
      "execution_count": null,
      "outputs": [
        {
          "output_type": "execute_result",
          "data": {
            "text/plain": [
              "     id  year_birth   education marital_status   income  kidhome  teenhome  \\\n",
              "0  5524        1957  Graduation         Single  58138.0        0         0   \n",
              "1  2174        1954  Graduation         Single  46344.0        1         1   \n",
              "2  4141        1965  Graduation       Together  71613.0        0         0   \n",
              "3  6182        1984  Graduation       Together  26646.0        1         0   \n",
              "4  5324        1981         PhD        Married  58293.0        1         0   \n",
              "\n",
              "  dt_customer  recency  mntwines  ...  numwebvisitsmonth  acceptedcmp3  \\\n",
              "0  2012-09-04       58       635  ...                  7             0   \n",
              "1  2014-03-08       38        11  ...                  5             0   \n",
              "2  2013-08-21       26       426  ...                  4             0   \n",
              "3  2014-02-10       26        11  ...                  6             0   \n",
              "4  2014-01-19       94       173  ...                  5             0   \n",
              "\n",
              "   acceptedcmp4  acceptedcmp5  acceptedcmp1  acceptedcmp2  complain  \\\n",
              "0             0             0             0             0         0   \n",
              "1             0             0             0             0         0   \n",
              "2             0             0             0             0         0   \n",
              "3             0             0             0             0         0   \n",
              "4             0             0             0             0         0   \n",
              "\n",
              "   z_costcontact  z_revenue  response  \n",
              "0              3         11         1  \n",
              "1              3         11         0  \n",
              "2              3         11         0  \n",
              "3              3         11         0  \n",
              "4              3         11         0  \n",
              "\n",
              "[5 rows x 29 columns]"
            ],
            "text/html": [
              "\n",
              "  <div id=\"df-be2c9ecd-d703-4e80-af8a-135cea752cd7\" class=\"colab-df-container\">\n",
              "    <div>\n",
              "<style scoped>\n",
              "    .dataframe tbody tr th:only-of-type {\n",
              "        vertical-align: middle;\n",
              "    }\n",
              "\n",
              "    .dataframe tbody tr th {\n",
              "        vertical-align: top;\n",
              "    }\n",
              "\n",
              "    .dataframe thead th {\n",
              "        text-align: right;\n",
              "    }\n",
              "</style>\n",
              "<table border=\"1\" class=\"dataframe\">\n",
              "  <thead>\n",
              "    <tr style=\"text-align: right;\">\n",
              "      <th></th>\n",
              "      <th>id</th>\n",
              "      <th>year_birth</th>\n",
              "      <th>education</th>\n",
              "      <th>marital_status</th>\n",
              "      <th>income</th>\n",
              "      <th>kidhome</th>\n",
              "      <th>teenhome</th>\n",
              "      <th>dt_customer</th>\n",
              "      <th>recency</th>\n",
              "      <th>mntwines</th>\n",
              "      <th>...</th>\n",
              "      <th>numwebvisitsmonth</th>\n",
              "      <th>acceptedcmp3</th>\n",
              "      <th>acceptedcmp4</th>\n",
              "      <th>acceptedcmp5</th>\n",
              "      <th>acceptedcmp1</th>\n",
              "      <th>acceptedcmp2</th>\n",
              "      <th>complain</th>\n",
              "      <th>z_costcontact</th>\n",
              "      <th>z_revenue</th>\n",
              "      <th>response</th>\n",
              "    </tr>\n",
              "  </thead>\n",
              "  <tbody>\n",
              "    <tr>\n",
              "      <th>0</th>\n",
              "      <td>5524</td>\n",
              "      <td>1957</td>\n",
              "      <td>Graduation</td>\n",
              "      <td>Single</td>\n",
              "      <td>58138.0</td>\n",
              "      <td>0</td>\n",
              "      <td>0</td>\n",
              "      <td>2012-09-04</td>\n",
              "      <td>58</td>\n",
              "      <td>635</td>\n",
              "      <td>...</td>\n",
              "      <td>7</td>\n",
              "      <td>0</td>\n",
              "      <td>0</td>\n",
              "      <td>0</td>\n",
              "      <td>0</td>\n",
              "      <td>0</td>\n",
              "      <td>0</td>\n",
              "      <td>3</td>\n",
              "      <td>11</td>\n",
              "      <td>1</td>\n",
              "    </tr>\n",
              "    <tr>\n",
              "      <th>1</th>\n",
              "      <td>2174</td>\n",
              "      <td>1954</td>\n",
              "      <td>Graduation</td>\n",
              "      <td>Single</td>\n",
              "      <td>46344.0</td>\n",
              "      <td>1</td>\n",
              "      <td>1</td>\n",
              "      <td>2014-03-08</td>\n",
              "      <td>38</td>\n",
              "      <td>11</td>\n",
              "      <td>...</td>\n",
              "      <td>5</td>\n",
              "      <td>0</td>\n",
              "      <td>0</td>\n",
              "      <td>0</td>\n",
              "      <td>0</td>\n",
              "      <td>0</td>\n",
              "      <td>0</td>\n",
              "      <td>3</td>\n",
              "      <td>11</td>\n",
              "      <td>0</td>\n",
              "    </tr>\n",
              "    <tr>\n",
              "      <th>2</th>\n",
              "      <td>4141</td>\n",
              "      <td>1965</td>\n",
              "      <td>Graduation</td>\n",
              "      <td>Together</td>\n",
              "      <td>71613.0</td>\n",
              "      <td>0</td>\n",
              "      <td>0</td>\n",
              "      <td>2013-08-21</td>\n",
              "      <td>26</td>\n",
              "      <td>426</td>\n",
              "      <td>...</td>\n",
              "      <td>4</td>\n",
              "      <td>0</td>\n",
              "      <td>0</td>\n",
              "      <td>0</td>\n",
              "      <td>0</td>\n",
              "      <td>0</td>\n",
              "      <td>0</td>\n",
              "      <td>3</td>\n",
              "      <td>11</td>\n",
              "      <td>0</td>\n",
              "    </tr>\n",
              "    <tr>\n",
              "      <th>3</th>\n",
              "      <td>6182</td>\n",
              "      <td>1984</td>\n",
              "      <td>Graduation</td>\n",
              "      <td>Together</td>\n",
              "      <td>26646.0</td>\n",
              "      <td>1</td>\n",
              "      <td>0</td>\n",
              "      <td>2014-02-10</td>\n",
              "      <td>26</td>\n",
              "      <td>11</td>\n",
              "      <td>...</td>\n",
              "      <td>6</td>\n",
              "      <td>0</td>\n",
              "      <td>0</td>\n",
              "      <td>0</td>\n",
              "      <td>0</td>\n",
              "      <td>0</td>\n",
              "      <td>0</td>\n",
              "      <td>3</td>\n",
              "      <td>11</td>\n",
              "      <td>0</td>\n",
              "    </tr>\n",
              "    <tr>\n",
              "      <th>4</th>\n",
              "      <td>5324</td>\n",
              "      <td>1981</td>\n",
              "      <td>PhD</td>\n",
              "      <td>Married</td>\n",
              "      <td>58293.0</td>\n",
              "      <td>1</td>\n",
              "      <td>0</td>\n",
              "      <td>2014-01-19</td>\n",
              "      <td>94</td>\n",
              "      <td>173</td>\n",
              "      <td>...</td>\n",
              "      <td>5</td>\n",
              "      <td>0</td>\n",
              "      <td>0</td>\n",
              "      <td>0</td>\n",
              "      <td>0</td>\n",
              "      <td>0</td>\n",
              "      <td>0</td>\n",
              "      <td>3</td>\n",
              "      <td>11</td>\n",
              "      <td>0</td>\n",
              "    </tr>\n",
              "  </tbody>\n",
              "</table>\n",
              "<p>5 rows × 29 columns</p>\n",
              "</div>\n",
              "    <div class=\"colab-df-buttons\">\n",
              "\n",
              "  <div class=\"colab-df-container\">\n",
              "    <button class=\"colab-df-convert\" onclick=\"convertToInteractive('df-be2c9ecd-d703-4e80-af8a-135cea752cd7')\"\n",
              "            title=\"Convert this dataframe to an interactive table.\"\n",
              "            style=\"display:none;\">\n",
              "\n",
              "  <svg xmlns=\"http://www.w3.org/2000/svg\" height=\"24px\" viewBox=\"0 -960 960 960\">\n",
              "    <path d=\"M120-120v-720h720v720H120Zm60-500h600v-160H180v160Zm220 220h160v-160H400v160Zm0 220h160v-160H400v160ZM180-400h160v-160H180v160Zm440 0h160v-160H620v160ZM180-180h160v-160H180v160Zm440 0h160v-160H620v160Z\"/>\n",
              "  </svg>\n",
              "    </button>\n",
              "\n",
              "  <style>\n",
              "    .colab-df-container {\n",
              "      display:flex;\n",
              "      gap: 12px;\n",
              "    }\n",
              "\n",
              "    .colab-df-convert {\n",
              "      background-color: #E8F0FE;\n",
              "      border: none;\n",
              "      border-radius: 50%;\n",
              "      cursor: pointer;\n",
              "      display: none;\n",
              "      fill: #1967D2;\n",
              "      height: 32px;\n",
              "      padding: 0 0 0 0;\n",
              "      width: 32px;\n",
              "    }\n",
              "\n",
              "    .colab-df-convert:hover {\n",
              "      background-color: #E2EBFA;\n",
              "      box-shadow: 0px 1px 2px rgba(60, 64, 67, 0.3), 0px 1px 3px 1px rgba(60, 64, 67, 0.15);\n",
              "      fill: #174EA6;\n",
              "    }\n",
              "\n",
              "    .colab-df-buttons div {\n",
              "      margin-bottom: 4px;\n",
              "    }\n",
              "\n",
              "    [theme=dark] .colab-df-convert {\n",
              "      background-color: #3B4455;\n",
              "      fill: #D2E3FC;\n",
              "    }\n",
              "\n",
              "    [theme=dark] .colab-df-convert:hover {\n",
              "      background-color: #434B5C;\n",
              "      box-shadow: 0px 1px 3px 1px rgba(0, 0, 0, 0.15);\n",
              "      filter: drop-shadow(0px 1px 2px rgba(0, 0, 0, 0.3));\n",
              "      fill: #FFFFFF;\n",
              "    }\n",
              "  </style>\n",
              "\n",
              "    <script>\n",
              "      const buttonEl =\n",
              "        document.querySelector('#df-be2c9ecd-d703-4e80-af8a-135cea752cd7 button.colab-df-convert');\n",
              "      buttonEl.style.display =\n",
              "        google.colab.kernel.accessAllowed ? 'block' : 'none';\n",
              "\n",
              "      async function convertToInteractive(key) {\n",
              "        const element = document.querySelector('#df-be2c9ecd-d703-4e80-af8a-135cea752cd7');\n",
              "        const dataTable =\n",
              "          await google.colab.kernel.invokeFunction('convertToInteractive',\n",
              "                                                    [key], {});\n",
              "        if (!dataTable) return;\n",
              "\n",
              "        const docLinkHtml = 'Like what you see? Visit the ' +\n",
              "          '<a target=\"_blank\" href=https://colab.research.google.com/notebooks/data_table.ipynb>data table notebook</a>'\n",
              "          + ' to learn more about interactive tables.';\n",
              "        element.innerHTML = '';\n",
              "        dataTable['output_type'] = 'display_data';\n",
              "        await google.colab.output.renderOutput(dataTable, element);\n",
              "        const docLink = document.createElement('div');\n",
              "        docLink.innerHTML = docLinkHtml;\n",
              "        element.appendChild(docLink);\n",
              "      }\n",
              "    </script>\n",
              "  </div>\n",
              "\n",
              "\n",
              "<div id=\"df-fcf2e503-f04c-4f39-b115-0a8d1bd6e424\">\n",
              "  <button class=\"colab-df-quickchart\" onclick=\"quickchart('df-fcf2e503-f04c-4f39-b115-0a8d1bd6e424')\"\n",
              "            title=\"Suggest charts\"\n",
              "            style=\"display:none;\">\n",
              "\n",
              "<svg xmlns=\"http://www.w3.org/2000/svg\" height=\"24px\"viewBox=\"0 0 24 24\"\n",
              "     width=\"24px\">\n",
              "    <g>\n",
              "        <path d=\"M19 3H5c-1.1 0-2 .9-2 2v14c0 1.1.9 2 2 2h14c1.1 0 2-.9 2-2V5c0-1.1-.9-2-2-2zM9 17H7v-7h2v7zm4 0h-2V7h2v10zm4 0h-2v-4h2v4z\"/>\n",
              "    </g>\n",
              "</svg>\n",
              "  </button>\n",
              "\n",
              "<style>\n",
              "  .colab-df-quickchart {\n",
              "      --bg-color: #E8F0FE;\n",
              "      --fill-color: #1967D2;\n",
              "      --hover-bg-color: #E2EBFA;\n",
              "      --hover-fill-color: #174EA6;\n",
              "      --disabled-fill-color: #AAA;\n",
              "      --disabled-bg-color: #DDD;\n",
              "  }\n",
              "\n",
              "  [theme=dark] .colab-df-quickchart {\n",
              "      --bg-color: #3B4455;\n",
              "      --fill-color: #D2E3FC;\n",
              "      --hover-bg-color: #434B5C;\n",
              "      --hover-fill-color: #FFFFFF;\n",
              "      --disabled-bg-color: #3B4455;\n",
              "      --disabled-fill-color: #666;\n",
              "  }\n",
              "\n",
              "  .colab-df-quickchart {\n",
              "    background-color: var(--bg-color);\n",
              "    border: none;\n",
              "    border-radius: 50%;\n",
              "    cursor: pointer;\n",
              "    display: none;\n",
              "    fill: var(--fill-color);\n",
              "    height: 32px;\n",
              "    padding: 0;\n",
              "    width: 32px;\n",
              "  }\n",
              "\n",
              "  .colab-df-quickchart:hover {\n",
              "    background-color: var(--hover-bg-color);\n",
              "    box-shadow: 0 1px 2px rgba(60, 64, 67, 0.3), 0 1px 3px 1px rgba(60, 64, 67, 0.15);\n",
              "    fill: var(--button-hover-fill-color);\n",
              "  }\n",
              "\n",
              "  .colab-df-quickchart-complete:disabled,\n",
              "  .colab-df-quickchart-complete:disabled:hover {\n",
              "    background-color: var(--disabled-bg-color);\n",
              "    fill: var(--disabled-fill-color);\n",
              "    box-shadow: none;\n",
              "  }\n",
              "\n",
              "  .colab-df-spinner {\n",
              "    border: 2px solid var(--fill-color);\n",
              "    border-color: transparent;\n",
              "    border-bottom-color: var(--fill-color);\n",
              "    animation:\n",
              "      spin 1s steps(1) infinite;\n",
              "  }\n",
              "\n",
              "  @keyframes spin {\n",
              "    0% {\n",
              "      border-color: transparent;\n",
              "      border-bottom-color: var(--fill-color);\n",
              "      border-left-color: var(--fill-color);\n",
              "    }\n",
              "    20% {\n",
              "      border-color: transparent;\n",
              "      border-left-color: var(--fill-color);\n",
              "      border-top-color: var(--fill-color);\n",
              "    }\n",
              "    30% {\n",
              "      border-color: transparent;\n",
              "      border-left-color: var(--fill-color);\n",
              "      border-top-color: var(--fill-color);\n",
              "      border-right-color: var(--fill-color);\n",
              "    }\n",
              "    40% {\n",
              "      border-color: transparent;\n",
              "      border-right-color: var(--fill-color);\n",
              "      border-top-color: var(--fill-color);\n",
              "    }\n",
              "    60% {\n",
              "      border-color: transparent;\n",
              "      border-right-color: var(--fill-color);\n",
              "    }\n",
              "    80% {\n",
              "      border-color: transparent;\n",
              "      border-right-color: var(--fill-color);\n",
              "      border-bottom-color: var(--fill-color);\n",
              "    }\n",
              "    90% {\n",
              "      border-color: transparent;\n",
              "      border-bottom-color: var(--fill-color);\n",
              "    }\n",
              "  }\n",
              "</style>\n",
              "\n",
              "  <script>\n",
              "    async function quickchart(key) {\n",
              "      const quickchartButtonEl =\n",
              "        document.querySelector('#' + key + ' button');\n",
              "      quickchartButtonEl.disabled = true;  // To prevent multiple clicks.\n",
              "      quickchartButtonEl.classList.add('colab-df-spinner');\n",
              "      try {\n",
              "        const charts = await google.colab.kernel.invokeFunction(\n",
              "            'suggestCharts', [key], {});\n",
              "      } catch (error) {\n",
              "        console.error('Error during call to suggestCharts:', error);\n",
              "      }\n",
              "      quickchartButtonEl.classList.remove('colab-df-spinner');\n",
              "      quickchartButtonEl.classList.add('colab-df-quickchart-complete');\n",
              "    }\n",
              "    (() => {\n",
              "      let quickchartButtonEl =\n",
              "        document.querySelector('#df-fcf2e503-f04c-4f39-b115-0a8d1bd6e424 button');\n",
              "      quickchartButtonEl.style.display =\n",
              "        google.colab.kernel.accessAllowed ? 'block' : 'none';\n",
              "    })();\n",
              "  </script>\n",
              "</div>\n",
              "\n",
              "    </div>\n",
              "  </div>\n"
            ],
            "application/vnd.google.colaboratory.intrinsic+json": {
              "type": "dataframe",
              "variable_name": "df"
            }
          },
          "metadata": {},
          "execution_count": 145
        }
      ]
    },
    {
      "cell_type": "code",
      "source": [
        "# Inicialmente vamos realizar os tratamentos de qualidade dos dados, sendo eles:\n",
        "# - Tratamento de campos nulos.\n",
        "# - Tratamento de outliers."
      ],
      "metadata": {
        "id": "e5sPo-bTEq_s"
      },
      "execution_count": null,
      "outputs": []
    },
    {
      "cell_type": "code",
      "source": [
        "# df.isnull().sum()"
      ],
      "metadata": {
        "id": "-LFp2F9NFOlN"
      },
      "execution_count": null,
      "outputs": []
    },
    {
      "cell_type": "code",
      "source": [
        "# Por serem apenas 24 valores em um universo de mais de 2000 casos, vou excluir os casos com campos vazios."
      ],
      "metadata": {
        "id": "O4wCSnnhFp2m"
      },
      "execution_count": null,
      "outputs": []
    },
    {
      "cell_type": "code",
      "source": [
        "df = df.dropna(subset='income')"
      ],
      "metadata": {
        "id": "soXFTMypFyKo"
      },
      "execution_count": null,
      "outputs": []
    },
    {
      "cell_type": "code",
      "source": [
        "# Observando o DataFrame percebemos que podemos realizar mais alguns tratamentos importantes para posteriormente avaliarmos os dados.\n",
        "# Como exemplo, tratar as variáveis categóricas utilizando codificação binária para representar as características (dummy variables), úteis para considerar as informações qualitativas.\n",
        "# No caso da escolaridade vamos fazer uma tratativa de codificação ordinal, já que há uma sequência esperada de realização.\n",
        "# Gosto também pessoalmente de tratar datas para variáveis contínuas positivas (deltas)."
      ],
      "metadata": {
        "id": "VMSBC2XL4-eD"
      },
      "execution_count": null,
      "outputs": []
    },
    {
      "cell_type": "code",
      "source": [
        "df.dt_customer = pd.to_datetime(df.dt_customer)"
      ],
      "metadata": {
        "id": "Cx3xJxeVdx2A"
      },
      "execution_count": null,
      "outputs": []
    },
    {
      "cell_type": "code",
      "source": [
        "df['data_de_analise'] = pd.to_datetime(datetime.today())"
      ],
      "metadata": {
        "id": "NHB0pYEGeEVR"
      },
      "execution_count": null,
      "outputs": []
    },
    {
      "cell_type": "code",
      "source": [
        "df['tempo_decorrido_cadastro'] = (df['data_de_analise'] - df['dt_customer']).dt.days\n",
        "df['idade'] = df.data_de_analise.dt.year - df.year_birth\n",
        "df = df.drop('data_de_analise', axis=1)\n",
        "df = df.drop('dt_customer', axis=1)"
      ],
      "metadata": {
        "id": "oHS68f2Hg39x"
      },
      "execution_count": null,
      "outputs": []
    },
    {
      "cell_type": "code",
      "source": [
        "df_encoded = pd.get_dummies(df, columns=['marital_status'])"
      ],
      "metadata": {
        "id": "38TTcpTGfFHA"
      },
      "execution_count": null,
      "outputs": []
    },
    {
      "cell_type": "code",
      "source": [
        "ordem_categorias = {'Basic':1, 'Graduation':2, '2n Cycle':3, 'Master':3, 'PhD':4}\n",
        "# Considerei que o 2n cycle é o referente ao segundo ciclo europeu (mestrado)."
      ],
      "metadata": {
        "id": "5usDLscdjD5n"
      },
      "execution_count": null,
      "outputs": []
    },
    {
      "cell_type": "code",
      "source": [
        "df_encoded['education'] = df_encoded['education'].map(ordem_categorias)"
      ],
      "metadata": {
        "id": "KLH32FsIkMLp"
      },
      "execution_count": null,
      "outputs": []
    },
    {
      "cell_type": "code",
      "source": [
        "df_encoded.columns = [snake_case(coluna) for coluna in df_encoded.columns]"
      ],
      "metadata": {
        "id": "upDYoQ5Mf2XM"
      },
      "execution_count": null,
      "outputs": []
    },
    {
      "cell_type": "code",
      "source": [
        "# Aproveitando que removemos as variáveis categóricas, vamos também limpar a base dos outliers, utilizando 3 desvios padrão."
      ],
      "metadata": {
        "id": "BFn2RTarcjUV"
      },
      "execution_count": null,
      "outputs": []
    },
    {
      "cell_type": "code",
      "source": [
        "continuous_columns = ['income', 'kidhome', 'teenhome', 'recency',\n",
        "       'mntwines', 'mntfruits', 'mntmeatproducts', 'mntfishproducts',\n",
        "       'mntsweetproducts', 'mntgoldprods', 'numdealspurchases',\n",
        "       'numwebpurchases', 'numcatalogpurchases', 'numstorepurchases',\n",
        "       'numwebvisitsmonth', 'tempo_decorrido_cadastro', 'idade']"
      ],
      "metadata": {
        "id": "6vaNS511euPw"
      },
      "execution_count": null,
      "outputs": []
    },
    {
      "cell_type": "code",
      "source": [
        "df_filtered = df_encoded[continuous_columns]"
      ],
      "metadata": {
        "id": "xNC_5YTJffHG"
      },
      "execution_count": null,
      "outputs": []
    },
    {
      "cell_type": "code",
      "source": [
        "z_scores = stats.zscore(df_filtered)\n",
        "threshold = 3"
      ],
      "metadata": {
        "id": "sFm1BmSIctiw"
      },
      "execution_count": null,
      "outputs": []
    },
    {
      "cell_type": "code",
      "source": [
        "df_filtered = df_filtered[(z_scores < threshold).all(axis=1)]"
      ],
      "metadata": {
        "id": "N1kkdvNlc1w6"
      },
      "execution_count": null,
      "outputs": []
    },
    {
      "cell_type": "code",
      "source": [
        "df_encoded = df_encoded.loc[df_filtered.index]"
      ],
      "metadata": {
        "id": "OrbF33wLeIQK"
      },
      "execution_count": null,
      "outputs": []
    },
    {
      "cell_type": "code",
      "source": [
        "# Neste momento iniciei a análise de correlação, as questões exigiram a avaliação de poucos parâmetros, são eles:\n",
        "# 1. idade do clientes vs conversão\n",
        "# 2. escolaridade vs conversão\n",
        "# 3. renda vs conversão\n",
        "# Parâmetro considerado:\n",
        "# correl forte: +1 a +.7 ou -.7 a -1\n",
        "# correl moderada: +.7 a +.3 ou -.3 a -.7\n",
        "# correl fraca: +.3 a 0 ou 0 a -.3"
      ],
      "metadata": {
        "id": "qIfvdxcV6AIz"
      },
      "execution_count": null,
      "outputs": []
    },
    {
      "cell_type": "code",
      "source": [
        "correl = df_encoded.corr()"
      ],
      "metadata": {
        "id": "H30i6DizkTEa"
      },
      "execution_count": null,
      "outputs": []
    },
    {
      "cell_type": "code",
      "source": [
        "correl['idade']['response'] # Correlação fraca"
      ],
      "metadata": {
        "colab": {
          "base_uri": "https://localhost:8080/"
        },
        "id": "lsTM9G8rdbSJ",
        "outputId": "556c6df6-e297-4a40-f7b8-d05760d4d504"
      },
      "execution_count": null,
      "outputs": [
        {
          "output_type": "execute_result",
          "data": {
            "text/plain": [
              "-0.003117884173573325"
            ]
          },
          "metadata": {},
          "execution_count": 169
        }
      ]
    },
    {
      "cell_type": "code",
      "source": [
        "# Para duplamente validar a não correlação, vamos realizar um teste de hipótese:\n",
        "# H0: A média de idade dos clientes que compraram o produto é igual dos que não compraram.\n",
        "# H1: A média de idades dos clientes que compraram o produto é diferente dos que não compraram."
      ],
      "metadata": {
        "id": "dv2gon2-9siC"
      },
      "execution_count": null,
      "outputs": []
    },
    {
      "cell_type": "code",
      "source": [
        "teste_hipotese(df_encoded, 'response', 'idade')"
      ],
      "metadata": {
        "colab": {
          "base_uri": "https://localhost:8080/"
        },
        "id": "i_-BMB_z-W-b",
        "outputId": "14c1ebf6-e06c-46cf-aec0-41108d2baa05"
      },
      "execution_count": null,
      "outputs": [
        {
          "output_type": "stream",
          "name": "stdout",
          "text": [
            "-0.13771800510499396\n",
            "0.890477500043385\n"
          ]
        }
      ]
    },
    {
      "cell_type": "code",
      "source": [
        "# Como normalmente o nível de significância escolhido é de 0.05, consideramos que NÃO podemos rejeitar a hipótese nula."
      ],
      "metadata": {
        "id": "1rFZhrfH_83J"
      },
      "execution_count": null,
      "outputs": []
    },
    {
      "cell_type": "code",
      "source": [
        "print(correl['education']['response']) # Correlação fraca"
      ],
      "metadata": {
        "colab": {
          "base_uri": "https://localhost:8080/"
        },
        "id": "75LYIE5BmdO7",
        "outputId": "59f16f18-03df-43b4-ba2d-947752718a73"
      },
      "execution_count": null,
      "outputs": [
        {
          "output_type": "stream",
          "name": "stdout",
          "text": [
            "0.1069305808245222\n"
          ]
        }
      ]
    },
    {
      "cell_type": "code",
      "source": [
        "# Para duplamente validar a não correlação, vamos realizar um teste de hipótese:\n",
        "# H0: A média de educação formal dos clientes que compraram o produto é igual dos que não compraram.\n",
        "# H1: A média de educação formal dos clientes que compraram o produto é diferente dos que não compraram."
      ],
      "metadata": {
        "id": "mIa6k4tjlD46"
      },
      "execution_count": null,
      "outputs": []
    },
    {
      "cell_type": "code",
      "source": [
        "teste_hipotese(df_encoded, 'response', 'education')"
      ],
      "metadata": {
        "colab": {
          "base_uri": "https://localhost:8080/"
        },
        "id": "Klf_3icKHww7",
        "outputId": "e214969d-79e0-414d-d7d1-5a087518bb5f"
      },
      "execution_count": null,
      "outputs": [
        {
          "output_type": "stream",
          "name": "stdout",
          "text": [
            "4.7503735103290525\n",
            "2.1785251328868787e-06\n"
          ]
        }
      ]
    },
    {
      "cell_type": "code",
      "source": [
        "# Como normalmente o nível de significância escolhido é de 0.05, consideramos que PODEMOS rejeitar a hipótese nula.\n",
        "# Mesmo com a correlação sendo inconclusiva em primeiro momento, afirmamos que a educação dos clientes interfere sim na compra do produto de acordo com o teste de hipótese."
      ],
      "metadata": {
        "id": "lYasbZ4dJM_9"
      },
      "execution_count": null,
      "outputs": []
    },
    {
      "cell_type": "code",
      "source": [
        "correl['income']['response'] # Correlação fraca"
      ],
      "metadata": {
        "colab": {
          "base_uri": "https://localhost:8080/"
        },
        "id": "Oeciu89Fm6vc",
        "outputId": "9bf6176e-99ce-4275-ff7e-82a21a960ae1"
      },
      "execution_count": null,
      "outputs": [
        {
          "output_type": "execute_result",
          "data": {
            "text/plain": [
              "0.12403633653939328"
            ]
          },
          "metadata": {},
          "execution_count": 179
        }
      ]
    },
    {
      "cell_type": "code",
      "source": [
        "# Para duplamente validar a não correlação, vamos realizar um teste de hipótese:\n",
        "# H0: A média de renda dos clientes que compraram o produto é igual dos que não compraram.\n",
        "# H1: A média de renda dos clientes que compraram o produto é diferente dos que não compraram."
      ],
      "metadata": {
        "id": "mxxL6S8uA2eT"
      },
      "execution_count": null,
      "outputs": []
    },
    {
      "cell_type": "code",
      "source": [
        "teste_hipotese(df_encoded, 'response', 'income')"
      ],
      "metadata": {
        "colab": {
          "base_uri": "https://localhost:8080/"
        },
        "id": "6xdkOfE4AtuK",
        "outputId": "f407f9b8-f81a-46bc-f18d-6647a606211f"
      },
      "execution_count": null,
      "outputs": [
        {
          "output_type": "stream",
          "name": "stdout",
          "text": [
            "5.521338129562282\n",
            "3.8141722328771546e-08\n"
          ]
        }
      ]
    },
    {
      "cell_type": "code",
      "source": [
        "# Como normalmente o nível de significância escolhido é de 0.05, consideramos que PODEMOS rejeitar a hipótese nula.\n",
        "# Mesmo com a correlação sendo inconclusiva em primeiro momento, afirmamos que a renda dos clientes interfere sim na compra do produto de acordo com o teste de hipótese."
      ],
      "metadata": {
        "id": "77HePaN_HGwI"
      },
      "execution_count": null,
      "outputs": []
    },
    {
      "cell_type": "code",
      "source": [
        "# Vamos plotar os gráficos de regressão para melhor visualizar as três variáveis."
      ],
      "metadata": {
        "id": "NC8A3ocslxLh"
      },
      "execution_count": null,
      "outputs": []
    },
    {
      "cell_type": "code",
      "source": [
        "# idade vs response\n",
        "x = df_encoded.idade\n",
        "y = df_encoded.response\n",
        "sns.boxplot(x='response', y='idade', data=df_encoded)\n",
        "plt.title('Idade vs Resposta')\n",
        "plt.show()"
      ],
      "metadata": {
        "colab": {
          "base_uri": "https://localhost:8080/",
          "height": 472
        },
        "id": "T-tMH8I_sFpf",
        "outputId": "5ec81efd-7e3d-438f-d17a-ec0c7b19c432"
      },
      "execution_count": null,
      "outputs": [
        {
          "output_type": "display_data",
          "data": {
            "text/plain": [
              "<Figure size 640x480 with 1 Axes>"
            ],
            "image/png": "[encoded data removed]"
          },
          "metadata": {}
        }
      ]
    },
    {
      "cell_type": "code",
      "source": [
        "# education vs response\n",
        "x = df_encoded.idade\n",
        "y = df_encoded.response\n",
        "sns.boxplot(x='response', y='education', data=df_encoded)\n",
        "plt.title('Educação formal vs Resposta')\n",
        "plt.show()"
      ],
      "metadata": {
        "colab": {
          "base_uri": "https://localhost:8080/",
          "height": 472
        },
        "id": "dPmTTW-cummg",
        "outputId": "e457dae7-3953-4429-8e42-a6f6ffe32697"
      },
      "execution_count": null,
      "outputs": [
        {
          "output_type": "display_data",
          "data": {
            "text/plain": [
              "<Figure size 640x480 with 1 Axes>"
            ],
            "image/png": "[encoded data removed]"
          },
          "metadata": {}
        }
      ]
    },
    {
      "cell_type": "code",
      "source": [
        "# renda vs response\n",
        "x = df_encoded.idade\n",
        "y = df_encoded.response\n",
        "sns.boxplot(x='response', y='education', data=df_encoded)\n",
        "plt.title('Renda vs Resposta')\n",
        "plt.show()"
      ],
      "metadata": {
        "colab": {
          "base_uri": "https://localhost:8080/",
          "height": 472
        },
        "id": "PukCKKKNsJcZ",
        "outputId": "f0e228d3-6d55-4398-b815-28aa5b4f992f"
      },
      "execution_count": null,
      "outputs": [
        {
          "output_type": "display_data",
          "data": {
            "text/plain": [
              "<Figure size 640x480 with 1 Axes>"
            ],
            "image/png": "[encoded data removed]"
          },
          "metadata": {}
        }
      ]
    },
    {
      "cell_type": "code",
      "source": [
        "correl['response'].sort_values()"
      ],
      "metadata": {
        "colab": {
          "base_uri": "https://localhost:8080/"
        },
        "id": "5S1Gr-X96G2K",
        "outputId": "5feeec70-5ee6-4e99-89f6-785a0ce0f083"
      },
      "execution_count": null,
      "outputs": [
        {
          "output_type": "execute_result",
          "data": {
            "text/plain": [
              "recency                    -0.185385\n",
              "teenhome                   -0.138097\n",
              "marital_status_married     -0.075823\n",
              "marital_status_together    -0.062620\n",
              "kidhome                    -0.060095\n",
              "marital_status_absurd      -0.008890\n",
              "id                         -0.008833\n",
              "idade                      -0.003118\n",
              "year_birth                  0.003118\n",
              "complain                    0.004890\n",
              "numstorepurchases           0.020414\n",
              "numdealspurchases           0.022713\n",
              "marital_status_alone        0.023019\n",
              "marital_status_yolo         0.034473\n",
              "marital_status_widow        0.040463\n",
              "numwebvisitsmonth           0.044911\n",
              "marital_status_divorced     0.045641\n",
              "mntfruits                   0.092032\n",
              "marital_status_single       0.102287\n",
              "education                   0.106931\n",
              "mntfishproducts             0.107144\n",
              "income                      0.124036\n",
              "mntsweetproducts            0.125121\n",
              "acceptedcmp2                0.138460\n",
              "acceptedcmp4                0.148799\n",
              "mntgoldprods                0.151539\n",
              "numwebpurchases             0.152846\n",
              "mntwines                    0.199075\n",
              "tempo_decorrido_cadastro    0.205488\n",
              "numcatalogpurchases         0.213455\n",
              "mntmeatproducts             0.213530\n",
              "acceptedcmp1                0.267754\n",
              "acceptedcmp5                0.273665\n",
              "acceptedcmp3                0.275105\n",
              "response                    1.000000\n",
              "z_costcontact                    NaN\n",
              "z_revenue                        NaN\n",
              "Name: response, dtype: float64"
            ]
          },
          "metadata": {},
          "execution_count": 244
        }
      ]
    },
    {
      "cell_type": "code",
      "source": [
        "# Chamam atenção as seguintes correlações (>0.1 ou <-0.1):\n",
        "#\n",
        "# Positivas:\n",
        "# 1. Clientes que aceitaram uma das 5 últimas campanhas, com destaque às campanhas 1, 3 e 5.\n",
        "# 2. Gastos em vinhos, carnes, ouro, frutas e peixes, em ordem decrescente de importância.\n",
        "# 3. Volume de compras por catálogo e web.\n",
        "# 4. Tempo decorrido do cadastro.\n",
        "# 5. Renda.\n",
        "# 6. Pessoas solteiras.\n",
        "#\n",
        "# Negativas:\n",
        "# 1. Tempo desde a última compra.\n",
        "# 2. Clientes com jovens.\n",
        "#\n",
        "# Sendo assim vamos olhar as estatísticas destas variáveis para os casos em que a campanha converteu."
      ],
      "metadata": {
        "id": "wt7uRLWl7kME"
      },
      "execution_count": null,
      "outputs": []
    },
    {
      "cell_type": "code",
      "source": [
        "df_filtered = df_encoded[df_encoded.response == 1]"
      ],
      "metadata": {
        "id": "S7Is73ffsrjR"
      },
      "execution_count": null,
      "outputs": []
    },
    {
      "cell_type": "code",
      "source": [
        "describe = df_filtered.describe()"
      ],
      "metadata": {
        "id": "Sdvle4nzhlGU"
      },
      "execution_count": null,
      "outputs": []
    },
    {
      "cell_type": "code",
      "source": [
        "colunas_interesse = ['acceptedcmp1',\n",
        "                     'acceptedcmp5',\n",
        "                     'acceptedcmp3',\n",
        "                     'acceptedcmp4',\n",
        "                     'acceptedcmp2',\n",
        "                     'mntwines',\n",
        "                     'mntmeatproducts',\n",
        "                     'numcatalogpurchases',\n",
        "                     'numwebpurchases',\n",
        "                     'mntgoldprods',\n",
        "                     'mntsweetproducts',\n",
        "                     'mntfishproducts',\n",
        "                     'education',\n",
        "                     'income',\n",
        "                     'recency',\n",
        "                     'tempo_decorrido_cadastro',\n",
        "                     'teenhome']"
      ],
      "metadata": {
        "id": "1CFvOuApyQwh"
      },
      "execution_count": null,
      "outputs": []
    },
    {
      "cell_type": "code",
      "source": [
        "correl_var = df_encoded[colunas_interesse].corr().abs() > 0.7"
      ],
      "metadata": {
        "id": "mk7ULczg2inb"
      },
      "execution_count": null,
      "outputs": []
    },
    {
      "cell_type": "code",
      "source": [
        "correl_var"
      ],
      "metadata": {
        "colab": {
          "base_uri": "https://localhost:8080/",
          "height": 602
        },
        "id": "4bnBYDtK2ng9",
        "outputId": "ad6826c8-081a-4257-bf34-7c54ac7e6dd5"
      },
      "execution_count": null,
      "outputs": [
        {
          "output_type": "execute_result",
          "data": {
            "text/plain": [
              "                          acceptedcmp1  acceptedcmp5  acceptedcmp3  \\\n",
              "acceptedcmp1                      True         False         False   \n",
              "acceptedcmp5                     False          True         False   \n",
              "acceptedcmp3                     False         False          True   \n",
              "acceptedcmp4                     False         False         False   \n",
              "acceptedcmp2                     False         False         False   \n",
              "mntwines                         False         False         False   \n",
              "mntmeatproducts                  False         False         False   \n",
              "numcatalogpurchases              False         False         False   \n",
              "numwebpurchases                  False         False         False   \n",
              "mntgoldprods                     False         False         False   \n",
              "mntsweetproducts                 False         False         False   \n",
              "mntfishproducts                  False         False         False   \n",
              "education                        False         False         False   \n",
              "income                           False         False         False   \n",
              "recency                          False         False         False   \n",
              "tempo_decorrido_cadastro         False         False         False   \n",
              "teenhome                         False         False         False   \n",
              "\n",
              "                          acceptedcmp4  acceptedcmp2  mntwines  \\\n",
              "acceptedcmp1                     False         False     False   \n",
              "acceptedcmp5                     False         False     False   \n",
              "acceptedcmp3                     False         False     False   \n",
              "acceptedcmp4                      True         False     False   \n",
              "acceptedcmp2                     False          True     False   \n",
              "mntwines                         False         False      True   \n",
              "mntmeatproducts                  False         False     False   \n",
              "numcatalogpurchases              False         False      True   \n",
              "numwebpurchases                  False         False     False   \n",
              "mntgoldprods                     False         False     False   \n",
              "mntsweetproducts                 False         False     False   \n",
              "mntfishproducts                  False         False     False   \n",
              "education                        False         False     False   \n",
              "income                           False         False      True   \n",
              "recency                          False         False     False   \n",
              "tempo_decorrido_cadastro         False         False     False   \n",
              "teenhome                         False         False     False   \n",
              "\n",
              "                          mntmeatproducts  numcatalogpurchases  \\\n",
              "acceptedcmp1                        False                False   \n",
              "acceptedcmp5                        False                False   \n",
              "acceptedcmp3                        False                False   \n",
              "acceptedcmp4                        False                False   \n",
              "acceptedcmp2                        False                False   \n",
              "mntwines                            False                 True   \n",
              "mntmeatproducts                      True                 True   \n",
              "numcatalogpurchases                  True                 True   \n",
              "numwebpurchases                     False                False   \n",
              "mntgoldprods                        False                False   \n",
              "mntsweetproducts                    False                False   \n",
              "mntfishproducts                     False                False   \n",
              "education                           False                False   \n",
              "income                               True                 True   \n",
              "recency                             False                False   \n",
              "tempo_decorrido_cadastro            False                False   \n",
              "teenhome                            False                False   \n",
              "\n",
              "                          numwebpurchases  mntgoldprods  mntsweetproducts  \\\n",
              "acceptedcmp1                        False         False             False   \n",
              "acceptedcmp5                        False         False             False   \n",
              "acceptedcmp3                        False         False             False   \n",
              "acceptedcmp4                        False         False             False   \n",
              "acceptedcmp2                        False         False             False   \n",
              "mntwines                            False         False             False   \n",
              "mntmeatproducts                     False         False             False   \n",
              "numcatalogpurchases                 False         False             False   \n",
              "numwebpurchases                      True         False             False   \n",
              "mntgoldprods                        False          True             False   \n",
              "mntsweetproducts                    False         False              True   \n",
              "mntfishproducts                     False         False             False   \n",
              "education                           False         False             False   \n",
              "income                              False         False             False   \n",
              "recency                             False         False             False   \n",
              "tempo_decorrido_cadastro            False         False             False   \n",
              "teenhome                            False         False             False   \n",
              "\n",
              "                          mntfishproducts  education  income  recency  \\\n",
              "acceptedcmp1                        False      False   False    False   \n",
              "acceptedcmp5                        False      False   False    False   \n",
              "acceptedcmp3                        False      False   False    False   \n",
              "acceptedcmp4                        False      False   False    False   \n",
              "acceptedcmp2                        False      False   False    False   \n",
              "mntwines                            False      False    True    False   \n",
              "mntmeatproducts                     False      False    True    False   \n",
              "numcatalogpurchases                 False      False    True    False   \n",
              "numwebpurchases                     False      False   False    False   \n",
              "mntgoldprods                        False      False   False    False   \n",
              "mntsweetproducts                    False      False   False    False   \n",
              "mntfishproducts                      True      False   False    False   \n",
              "education                           False       True   False    False   \n",
              "income                              False      False    True    False   \n",
              "recency                             False      False   False     True   \n",
              "tempo_decorrido_cadastro            False      False   False    False   \n",
              "teenhome                            False      False   False    False   \n",
              "\n",
              "                          tempo_decorrido_cadastro  teenhome  \n",
              "acceptedcmp1                                 False     False  \n",
              "acceptedcmp5                                 False     False  \n",
              "acceptedcmp3                                 False     False  \n",
              "acceptedcmp4                                 False     False  \n",
              "acceptedcmp2                                 False     False  \n",
              "mntwines                                     False     False  \n",
              "mntmeatproducts                              False     False  \n",
              "numcatalogpurchases                          False     False  \n",
              "numwebpurchases                              False     False  \n",
              "mntgoldprods                                 False     False  \n",
              "mntsweetproducts                             False     False  \n",
              "mntfishproducts                              False     False  \n",
              "education                                    False     False  \n",
              "income                                       False     False  \n",
              "recency                                      False     False  \n",
              "tempo_decorrido_cadastro                      True     False  \n",
              "teenhome                                     False      True  "
            ],
            "text/html": [
              "\n",
              "  <div id=\"df-12e7c71f-ce8c-47f5-95da-b65ec6fc1416\" class=\"colab-df-container\">\n",
              "    <div>\n",
              "<style scoped>\n",
              "    .dataframe tbody tr th:only-of-type {\n",
              "        vertical-align: middle;\n",
              "    }\n",
              "\n",
              "    .dataframe tbody tr th {\n",
              "        vertical-align: top;\n",
              "    }\n",
              "\n",
              "    .dataframe thead th {\n",
              "        text-align: right;\n",
              "    }\n",
              "</style>\n",
              "<table border=\"1\" class=\"dataframe\">\n",
              "  <thead>\n",
              "    <tr style=\"text-align: right;\">\n",
              "      <th></th>\n",
              "      <th>acceptedcmp1</th>\n",
              "      <th>acceptedcmp5</th>\n",
              "      <th>acceptedcmp3</th>\n",
              "      <th>acceptedcmp4</th>\n",
              "      <th>acceptedcmp2</th>\n",
              "      <th>mntwines</th>\n",
              "      <th>mntmeatproducts</th>\n",
              "      <th>numcatalogpurchases</th>\n",
              "      <th>numwebpurchases</th>\n",
              "      <th>mntgoldprods</th>\n",
              "      <th>mntsweetproducts</th>\n",
              "      <th>mntfishproducts</th>\n",
              "      <th>education</th>\n",
              "      <th>income</th>\n",
              "      <th>recency</th>\n",
              "      <th>tempo_decorrido_cadastro</th>\n",
              "      <th>teenhome</th>\n",
              "    </tr>\n",
              "  </thead>\n",
              "  <tbody>\n",
              "    <tr>\n",
              "      <th>acceptedcmp1</th>\n",
              "      <td>True</td>\n",
              "      <td>False</td>\n",
              "      <td>False</td>\n",
              "      <td>False</td>\n",
              "      <td>False</td>\n",
              "      <td>False</td>\n",
              "      <td>False</td>\n",
              "      <td>False</td>\n",
              "      <td>False</td>\n",
              "      <td>False</td>\n",
              "      <td>False</td>\n",
              "      <td>False</td>\n",
              "      <td>False</td>\n",
              "      <td>False</td>\n",
              "      <td>False</td>\n",
              "      <td>False</td>\n",
              "      <td>False</td>\n",
              "    </tr>\n",
              "    <tr>\n",
              "      <th>acceptedcmp5</th>\n",
              "      <td>False</td>\n",
              "      <td>True</td>\n",
              "      <td>False</td>\n",
              "      <td>False</td>\n",
              "      <td>False</td>\n",
              "      <td>False</td>\n",
              "      <td>False</td>\n",
              "      <td>False</td>\n",
              "      <td>False</td>\n",
              "      <td>False</td>\n",
              "      <td>False</td>\n",
              "      <td>False</td>\n",
              "      <td>False</td>\n",
              "      <td>False</td>\n",
              "      <td>False</td>\n",
              "      <td>False</td>\n",
              "      <td>False</td>\n",
              "    </tr>\n",
              "    <tr>\n",
              "      <th>acceptedcmp3</th>\n",
              "      <td>False</td>\n",
              "      <td>False</td>\n",
              "      <td>True</td>\n",
              "      <td>False</td>\n",
              "      <td>False</td>\n",
              "      <td>False</td>\n",
              "      <td>False</td>\n",
              "      <td>False</td>\n",
              "      <td>False</td>\n",
              "      <td>False</td>\n",
              "      <td>False</td>\n",
              "      <td>False</td>\n",
              "      <td>False</td>\n",
              "      <td>False</td>\n",
              "      <td>False</td>\n",
              "      <td>False</td>\n",
              "      <td>False</td>\n",
              "    </tr>\n",
              "    <tr>\n",
              "      <th>acceptedcmp4</th>\n",
              "      <td>False</td>\n",
              "      <td>False</td>\n",
              "      <td>False</td>\n",
              "      <td>True</td>\n",
              "      <td>False</td>\n",
              "      <td>False</td>\n",
              "      <td>False</td>\n",
              "      <td>False</td>\n",
              "      <td>False</td>\n",
              "      <td>False</td>\n",
              "      <td>False</td>\n",
              "      <td>False</td>\n",
              "      <td>False</td>\n",
              "      <td>False</td>\n",
              "      <td>False</td>\n",
              "      <td>False</td>\n",
              "      <td>False</td>\n",
              "    </tr>\n",
              "    <tr>\n",
              "      <th>acceptedcmp2</th>\n",
              "      <td>False</td>\n",
              "      <td>False</td>\n",
              "      <td>False</td>\n",
              "      <td>False</td>\n",
              "      <td>True</td>\n",
              "      <td>False</td>\n",
              "      <td>False</td>\n",
              "      <td>False</td>\n",
              "      <td>False</td>\n",
              "      <td>False</td>\n",
              "      <td>False</td>\n",
              "      <td>False</td>\n",
              "      <td>False</td>\n",
              "      <td>False</td>\n",
              "      <td>False</td>\n",
              "      <td>False</td>\n",
              "      <td>False</td>\n",
              "    </tr>\n",
              "    <tr>\n",
              "      <th>mntwines</th>\n",
              "      <td>False</td>\n",
              "      <td>False</td>\n",
              "      <td>False</td>\n",
              "      <td>False</td>\n",
              "      <td>False</td>\n",
              "      <td>True</td>\n",
              "      <td>False</td>\n",
              "      <td>True</td>\n",
              "      <td>False</td>\n",
              "      <td>False</td>\n",
              "      <td>False</td>\n",
              "      <td>False</td>\n",
              "      <td>False</td>\n",
              "      <td>True</td>\n",
              "      <td>False</td>\n",
              "      <td>False</td>\n",
              "      <td>False</td>\n",
              "    </tr>\n",
              "    <tr>\n",
              "      <th>mntmeatproducts</th>\n",
              "      <td>False</td>\n",
              "      <td>False</td>\n",
              "      <td>False</td>\n",
              "      <td>False</td>\n",
              "      <td>False</td>\n",
              "      <td>False</td>\n",
              "      <td>True</td>\n",
              "      <td>True</td>\n",
              "      <td>False</td>\n",
              "      <td>False</td>\n",
              "      <td>False</td>\n",
              "      <td>False</td>\n",
              "      <td>False</td>\n",
              "      <td>True</td>\n",
              "      <td>False</td>\n",
              "      <td>False</td>\n",
              "      <td>False</td>\n",
              "    </tr>\n",
              "    <tr>\n",
              "      <th>numcatalogpurchases</th>\n",
              "      <td>False</td>\n",
              "      <td>False</td>\n",
              "      <td>False</td>\n",
              "      <td>False</td>\n",
              "      <td>False</td>\n",
              "      <td>True</td>\n",
              "      <td>True</td>\n",
              "      <td>True</td>\n",
              "      <td>False</td>\n",
              "      <td>False</td>\n",
              "      <td>False</td>\n",
              "      <td>False</td>\n",
              "      <td>False</td>\n",
              "      <td>True</td>\n",
              "      <td>False</td>\n",
              "      <td>False</td>\n",
              "      <td>False</td>\n",
              "    </tr>\n",
              "    <tr>\n",
              "      <th>numwebpurchases</th>\n",
              "      <td>False</td>\n",
              "      <td>False</td>\n",
              "      <td>False</td>\n",
              "      <td>False</td>\n",
              "      <td>False</td>\n",
              "      <td>False</td>\n",
              "      <td>False</td>\n",
              "      <td>False</td>\n",
              "      <td>True</td>\n",
              "      <td>False</td>\n",
              "      <td>False</td>\n",
              "      <td>False</td>\n",
              "      <td>False</td>\n",
              "      <td>False</td>\n",
              "      <td>False</td>\n",
              "      <td>False</td>\n",
              "      <td>False</td>\n",
              "    </tr>\n",
              "    <tr>\n",
              "      <th>mntgoldprods</th>\n",
              "      <td>False</td>\n",
              "      <td>False</td>\n",
              "      <td>False</td>\n",
              "      <td>False</td>\n",
              "      <td>False</td>\n",
              "      <td>False</td>\n",
              "      <td>False</td>\n",
              "      <td>False</td>\n",
              "      <td>False</td>\n",
              "      <td>True</td>\n",
              "      <td>False</td>\n",
              "      <td>False</td>\n",
              "      <td>False</td>\n",
              "      <td>False</td>\n",
              "      <td>False</td>\n",
              "      <td>False</td>\n",
              "      <td>False</td>\n",
              "    </tr>\n",
              "    <tr>\n",
              "      <th>mntsweetproducts</th>\n",
              "      <td>False</td>\n",
              "      <td>False</td>\n",
              "      <td>False</td>\n",
              "      <td>False</td>\n",
              "      <td>False</td>\n",
              "      <td>False</td>\n",
              "      <td>False</td>\n",
              "      <td>False</td>\n",
              "      <td>False</td>\n",
              "      <td>False</td>\n",
              "      <td>True</td>\n",
              "      <td>False</td>\n",
              "      <td>False</td>\n",
              "      <td>False</td>\n",
              "      <td>False</td>\n",
              "      <td>False</td>\n",
              "      <td>False</td>\n",
              "    </tr>\n",
              "    <tr>\n",
              "      <th>mntfishproducts</th>\n",
              "      <td>False</td>\n",
              "      <td>False</td>\n",
              "      <td>False</td>\n",
              "      <td>False</td>\n",
              "      <td>False</td>\n",
              "      <td>False</td>\n",
              "      <td>False</td>\n",
              "      <td>False</td>\n",
              "      <td>False</td>\n",
              "      <td>False</td>\n",
              "      <td>False</td>\n",
              "      <td>True</td>\n",
              "      <td>False</td>\n",
              "      <td>False</td>\n",
              "      <td>False</td>\n",
              "      <td>False</td>\n",
              "      <td>False</td>\n",
              "    </tr>\n",
              "    <tr>\n",
              "      <th>education</th>\n",
              "      <td>False</td>\n",
              "      <td>False</td>\n",
              "      <td>False</td>\n",
              "      <td>False</td>\n",
              "      <td>False</td>\n",
              "      <td>False</td>\n",
              "      <td>False</td>\n",
              "      <td>False</td>\n",
              "      <td>False</td>\n",
              "      <td>False</td>\n",
              "      <td>False</td>\n",
              "      <td>False</td>\n",
              "      <td>True</td>\n",
              "      <td>False</td>\n",
              "      <td>False</td>\n",
              "      <td>False</td>\n",
              "      <td>False</td>\n",
              "    </tr>\n",
              "    <tr>\n",
              "      <th>income</th>\n",
              "      <td>False</td>\n",
              "      <td>False</td>\n",
              "      <td>False</td>\n",
              "      <td>False</td>\n",
              "      <td>False</td>\n",
              "      <td>True</td>\n",
              "      <td>True</td>\n",
              "      <td>True</td>\n",
              "      <td>False</td>\n",
              "      <td>False</td>\n",
              "      <td>False</td>\n",
              "      <td>False</td>\n",
              "      <td>False</td>\n",
              "      <td>True</td>\n",
              "      <td>False</td>\n",
              "      <td>False</td>\n",
              "      <td>False</td>\n",
              "    </tr>\n",
              "    <tr>\n",
              "      <th>recency</th>\n",
              "      <td>False</td>\n",
              "      <td>False</td>\n",
              "      <td>False</td>\n",
              "      <td>False</td>\n",
              "      <td>False</td>\n",
              "      <td>False</td>\n",
              "      <td>False</td>\n",
              "      <td>False</td>\n",
              "      <td>False</td>\n",
              "      <td>False</td>\n",
              "      <td>False</td>\n",
              "      <td>False</td>\n",
              "      <td>False</td>\n",
              "      <td>False</td>\n",
              "      <td>True</td>\n",
              "      <td>False</td>\n",
              "      <td>False</td>\n",
              "    </tr>\n",
              "    <tr>\n",
              "      <th>tempo_decorrido_cadastro</th>\n",
              "      <td>False</td>\n",
              "      <td>False</td>\n",
              "      <td>False</td>\n",
              "      <td>False</td>\n",
              "      <td>False</td>\n",
              "      <td>False</td>\n",
              "      <td>False</td>\n",
              "      <td>False</td>\n",
              "      <td>False</td>\n",
              "      <td>False</td>\n",
              "      <td>False</td>\n",
              "      <td>False</td>\n",
              "      <td>False</td>\n",
              "      <td>False</td>\n",
              "      <td>False</td>\n",
              "      <td>True</td>\n",
              "      <td>False</td>\n",
              "    </tr>\n",
              "    <tr>\n",
              "      <th>teenhome</th>\n",
              "      <td>False</td>\n",
              "      <td>False</td>\n",
              "      <td>False</td>\n",
              "      <td>False</td>\n",
              "      <td>False</td>\n",
              "      <td>False</td>\n",
              "      <td>False</td>\n",
              "      <td>False</td>\n",
              "      <td>False</td>\n",
              "      <td>False</td>\n",
              "      <td>False</td>\n",
              "      <td>False</td>\n",
              "      <td>False</td>\n",
              "      <td>False</td>\n",
              "      <td>False</td>\n",
              "      <td>False</td>\n",
              "      <td>True</td>\n",
              "    </tr>\n",
              "  </tbody>\n",
              "</table>\n",
              "</div>\n",
              "    <div class=\"colab-df-buttons\">\n",
              "\n",
              "  <div class=\"colab-df-container\">\n",
              "    <button class=\"colab-df-convert\" onclick=\"convertToInteractive('df-12e7c71f-ce8c-47f5-95da-b65ec6fc1416')\"\n",
              "            title=\"Convert this dataframe to an interactive table.\"\n",
              "            style=\"display:none;\">\n",
              "\n",
              "  <svg xmlns=\"http://www.w3.org/2000/svg\" height=\"24px\" viewBox=\"0 -960 960 960\">\n",
              "    <path d=\"M120-120v-720h720v720H120Zm60-500h600v-160H180v160Zm220 220h160v-160H400v160Zm0 220h160v-160H400v160ZM180-400h160v-160H180v160Zm440 0h160v-160H620v160ZM180-180h160v-160H180v160Zm440 0h160v-160H620v160Z\"/>\n",
              "  </svg>\n",
              "    </button>\n",
              "\n",
              "  <style>\n",
              "    .colab-df-container {\n",
              "      display:flex;\n",
              "      gap: 12px;\n",
              "    }\n",
              "\n",
              "    .colab-df-convert {\n",
              "      background-color: #E8F0FE;\n",
              "      border: none;\n",
              "      border-radius: 50%;\n",
              "      cursor: pointer;\n",
              "      display: none;\n",
              "      fill: #1967D2;\n",
              "      height: 32px;\n",
              "      padding: 0 0 0 0;\n",
              "      width: 32px;\n",
              "    }\n",
              "\n",
              "    .colab-df-convert:hover {\n",
              "      background-color: #E2EBFA;\n",
              "      box-shadow: 0px 1px 2px rgba(60, 64, 67, 0.3), 0px 1px 3px 1px rgba(60, 64, 67, 0.15);\n",
              "      fill: #174EA6;\n",
              "    }\n",
              "\n",
              "    .colab-df-buttons div {\n",
              "      margin-bottom: 4px;\n",
              "    }\n",
              "\n",
              "    [theme=dark] .colab-df-convert {\n",
              "      background-color: #3B4455;\n",
              "      fill: #D2E3FC;\n",
              "    }\n",
              "\n",
              "    [theme=dark] .colab-df-convert:hover {\n",
              "      background-color: #434B5C;\n",
              "      box-shadow: 0px 1px 3px 1px rgba(0, 0, 0, 0.15);\n",
              "      filter: drop-shadow(0px 1px 2px rgba(0, 0, 0, 0.3));\n",
              "      fill: #FFFFFF;\n",
              "    }\n",
              "  </style>\n",
              "\n",
              "    <script>\n",
              "      const buttonEl =\n",
              "        document.querySelector('#df-12e7c71f-ce8c-47f5-95da-b65ec6fc1416 button.colab-df-convert');\n",
              "      buttonEl.style.display =\n",
              "        google.colab.kernel.accessAllowed ? 'block' : 'none';\n",
              "\n",
              "      async function convertToInteractive(key) {\n",
              "        const element = document.querySelector('#df-12e7c71f-ce8c-47f5-95da-b65ec6fc1416');\n",
              "        const dataTable =\n",
              "          await google.colab.kernel.invokeFunction('convertToInteractive',\n",
              "                                                    [key], {});\n",
              "        if (!dataTable) return;\n",
              "\n",
              "        const docLinkHtml = 'Like what you see? Visit the ' +\n",
              "          '<a target=\"_blank\" href=https://colab.research.google.com/notebooks/data_table.ipynb>data table notebook</a>'\n",
              "          + ' to learn more about interactive tables.';\n",
              "        element.innerHTML = '';\n",
              "        dataTable['output_type'] = 'display_data';\n",
              "        await google.colab.output.renderOutput(dataTable, element);\n",
              "        const docLink = document.createElement('div');\n",
              "        docLink.innerHTML = docLinkHtml;\n",
              "        element.appendChild(docLink);\n",
              "      }\n",
              "    </script>\n",
              "  </div>\n",
              "\n",
              "\n",
              "<div id=\"df-aadf4f90-8361-407e-af8f-107da9298cee\">\n",
              "  <button class=\"colab-df-quickchart\" onclick=\"quickchart('df-aadf4f90-8361-407e-af8f-107da9298cee')\"\n",
              "            title=\"Suggest charts\"\n",
              "            style=\"display:none;\">\n",
              "\n",
              "<svg xmlns=\"http://www.w3.org/2000/svg\" height=\"24px\"viewBox=\"0 0 24 24\"\n",
              "     width=\"24px\">\n",
              "    <g>\n",
              "        <path d=\"M19 3H5c-1.1 0-2 .9-2 2v14c0 1.1.9 2 2 2h14c1.1 0 2-.9 2-2V5c0-1.1-.9-2-2-2zM9 17H7v-7h2v7zm4 0h-2V7h2v10zm4 0h-2v-4h2v4z\"/>\n",
              "    </g>\n",
              "</svg>\n",
              "  </button>\n",
              "\n",
              "<style>\n",
              "  .colab-df-quickchart {\n",
              "      --bg-color: #E8F0FE;\n",
              "      --fill-color: #1967D2;\n",
              "      --hover-bg-color: #E2EBFA;\n",
              "      --hover-fill-color: #174EA6;\n",
              "      --disabled-fill-color: #AAA;\n",
              "      --disabled-bg-color: #DDD;\n",
              "  }\n",
              "\n",
              "  [theme=dark] .colab-df-quickchart {\n",
              "      --bg-color: #3B4455;\n",
              "      --fill-color: #D2E3FC;\n",
              "      --hover-bg-color: #434B5C;\n",
              "      --hover-fill-color: #FFFFFF;\n",
              "      --disabled-bg-color: #3B4455;\n",
              "      --disabled-fill-color: #666;\n",
              "  }\n",
              "\n",
              "  .colab-df-quickchart {\n",
              "    background-color: var(--bg-color);\n",
              "    border: none;\n",
              "    border-radius: 50%;\n",
              "    cursor: pointer;\n",
              "    display: none;\n",
              "    fill: var(--fill-color);\n",
              "    height: 32px;\n",
              "    padding: 0;\n",
              "    width: 32px;\n",
              "  }\n",
              "\n",
              "  .colab-df-quickchart:hover {\n",
              "    background-color: var(--hover-bg-color);\n",
              "    box-shadow: 0 1px 2px rgba(60, 64, 67, 0.3), 0 1px 3px 1px rgba(60, 64, 67, 0.15);\n",
              "    fill: var(--button-hover-fill-color);\n",
              "  }\n",
              "\n",
              "  .colab-df-quickchart-complete:disabled,\n",
              "  .colab-df-quickchart-complete:disabled:hover {\n",
              "    background-color: var(--disabled-bg-color);\n",
              "    fill: var(--disabled-fill-color);\n",
              "    box-shadow: none;\n",
              "  }\n",
              "\n",
              "  .colab-df-spinner {\n",
              "    border: 2px solid var(--fill-color);\n",
              "    border-color: transparent;\n",
              "    border-bottom-color: var(--fill-color);\n",
              "    animation:\n",
              "      spin 1s steps(1) infinite;\n",
              "  }\n",
              "\n",
              "  @keyframes spin {\n",
              "    0% {\n",
              "      border-color: transparent;\n",
              "      border-bottom-color: var(--fill-color);\n",
              "      border-left-color: var(--fill-color);\n",
              "    }\n",
              "    20% {\n",
              "      border-color: transparent;\n",
              "      border-left-color: var(--fill-color);\n",
              "      border-top-color: var(--fill-color);\n",
              "    }\n",
              "    30% {\n",
              "      border-color: transparent;\n",
              "      border-left-color: var(--fill-color);\n",
              "      border-top-color: var(--fill-color);\n",
              "      border-right-color: var(--fill-color);\n",
              "    }\n",
              "    40% {\n",
              "      border-color: transparent;\n",
              "      border-right-color: var(--fill-color);\n",
              "      border-top-color: var(--fill-color);\n",
              "    }\n",
              "    60% {\n",
              "      border-color: transparent;\n",
              "      border-right-color: var(--fill-color);\n",
              "    }\n",
              "    80% {\n",
              "      border-color: transparent;\n",
              "      border-right-color: var(--fill-color);\n",
              "      border-bottom-color: var(--fill-color);\n",
              "    }\n",
              "    90% {\n",
              "      border-color: transparent;\n",
              "      border-bottom-color: var(--fill-color);\n",
              "    }\n",
              "  }\n",
              "</style>\n",
              "\n",
              "  <script>\n",
              "    async function quickchart(key) {\n",
              "      const quickchartButtonEl =\n",
              "        document.querySelector('#' + key + ' button');\n",
              "      quickchartButtonEl.disabled = true;  // To prevent multiple clicks.\n",
              "      quickchartButtonEl.classList.add('colab-df-spinner');\n",
              "      try {\n",
              "        const charts = await google.colab.kernel.invokeFunction(\n",
              "            'suggestCharts', [key], {});\n",
              "      } catch (error) {\n",
              "        console.error('Error during call to suggestCharts:', error);\n",
              "      }\n",
              "      quickchartButtonEl.classList.remove('colab-df-spinner');\n",
              "      quickchartButtonEl.classList.add('colab-df-quickchart-complete');\n",
              "    }\n",
              "    (() => {\n",
              "      let quickchartButtonEl =\n",
              "        document.querySelector('#df-aadf4f90-8361-407e-af8f-107da9298cee button');\n",
              "      quickchartButtonEl.style.display =\n",
              "        google.colab.kernel.accessAllowed ? 'block' : 'none';\n",
              "    })();\n",
              "  </script>\n",
              "</div>\n",
              "\n",
              "  <div id=\"id_ec6cbd88-3d3f-4851-b982-74469f06a24e\">\n",
              "    <style>\n",
              "      .colab-df-generate {\n",
              "        background-color: #E8F0FE;\n",
              "        border: none;\n",
              "        border-radius: 50%;\n",
              "        cursor: pointer;\n",
              "        display: none;\n",
              "        fill: #1967D2;\n",
              "        height: 32px;\n",
              "        padding: 0 0 0 0;\n",
              "        width: 32px;\n",
              "      }\n",
              "\n",
              "      .colab-df-generate:hover {\n",
              "        background-color: #E2EBFA;\n",
              "        box-shadow: 0px 1px 2px rgba(60, 64, 67, 0.3), 0px 1px 3px 1px rgba(60, 64, 67, 0.15);\n",
              "        fill: #174EA6;\n",
              "      }\n",
              "\n",
              "      [theme=dark] .colab-df-generate {\n",
              "        background-color: #3B4455;\n",
              "        fill: #D2E3FC;\n",
              "      }\n",
              "\n",
              "      [theme=dark] .colab-df-generate:hover {\n",
              "        background-color: #434B5C;\n",
              "        box-shadow: 0px 1px 3px 1px rgba(0, 0, 0, 0.15);\n",
              "        filter: drop-shadow(0px 1px 2px rgba(0, 0, 0, 0.3));\n",
              "        fill: #FFFFFF;\n",
              "      }\n",
              "    </style>\n",
              "    <button class=\"colab-df-generate\" onclick=\"generateWithVariable('correl_var')\"\n",
              "            title=\"Generate code using this dataframe.\"\n",
              "            style=\"display:none;\">\n",
              "\n",
              "  <svg xmlns=\"http://www.w3.org/2000/svg\" height=\"24px\"viewBox=\"0 0 24 24\"\n",
              "       width=\"24px\">\n",
              "    <path d=\"M7,19H8.4L18.45,9,17,7.55,7,17.6ZM5,21V16.75L18.45,3.32a2,2,0,0,1,2.83,0l1.4,1.43a1.91,1.91,0,0,1,.58,1.4,1.91,1.91,0,0,1-.58,1.4L9.25,21ZM18.45,9,17,7.55Zm-12,3A5.31,5.31,0,0,0,4.9,8.1,5.31,5.31,0,0,0,1,6.5,5.31,5.31,0,0,0,4.9,4.9,5.31,5.31,0,0,0,6.5,1,5.31,5.31,0,0,0,8.1,4.9,5.31,5.31,0,0,0,12,6.5,5.46,5.46,0,0,0,6.5,12Z\"/>\n",
              "  </svg>\n",
              "    </button>\n",
              "    <script>\n",
              "      (() => {\n",
              "      const buttonEl =\n",
              "        document.querySelector('#id_ec6cbd88-3d3f-4851-b982-74469f06a24e button.colab-df-generate');\n",
              "      buttonEl.style.display =\n",
              "        google.colab.kernel.accessAllowed ? 'block' : 'none';\n",
              "\n",
              "      buttonEl.onclick = () => {\n",
              "        google.colab.notebook.generateWithVariable('correl_var');\n",
              "      }\n",
              "      })();\n",
              "    </script>\n",
              "  </div>\n",
              "\n",
              "    </div>\n",
              "  </div>\n"
            ],
            "application/vnd.google.colaboratory.intrinsic+json": {
              "type": "dataframe",
              "variable_name": "correl_var",
              "summary": "{\n  \"name\": \"correl_var\",\n  \"rows\": 17,\n  \"fields\": [\n    {\n      \"column\": \"acceptedcmp1\",\n      \"properties\": {\n        \"dtype\": \"boolean\",\n        \"num_unique_values\": 2,\n        \"samples\": [\n          false,\n          true\n        ],\n        \"semantic_type\": \"\",\n        \"description\": \"\"\n      }\n    },\n    {\n      \"column\": \"acceptedcmp5\",\n      \"properties\": {\n        \"dtype\": \"boolean\",\n        \"num_unique_values\": 2,\n        \"samples\": [\n          true,\n          false\n        ],\n        \"semantic_type\": \"\",\n        \"description\": \"\"\n      }\n    },\n    {\n      \"column\": \"acceptedcmp3\",\n      \"properties\": {\n        \"dtype\": \"boolean\",\n        \"num_unique_values\": 2,\n        \"samples\": [\n          true,\n          false\n        ],\n        \"semantic_type\": \"\",\n        \"description\": \"\"\n      }\n    },\n    {\n      \"column\": \"acceptedcmp4\",\n      \"properties\": {\n        \"dtype\": \"boolean\",\n        \"num_unique_values\": 2,\n        \"samples\": [\n          true,\n          false\n        ],\n        \"semantic_type\": \"\",\n        \"description\": \"\"\n      }\n    },\n    {\n      \"column\": \"acceptedcmp2\",\n      \"properties\": {\n        \"dtype\": \"boolean\",\n        \"num_unique_values\": 2,\n        \"samples\": [\n          true,\n          false\n        ],\n        \"semantic_type\": \"\",\n        \"description\": \"\"\n      }\n    },\n    {\n      \"column\": \"mntwines\",\n      \"properties\": {\n        \"dtype\": \"boolean\",\n        \"num_unique_values\": 2,\n        \"samples\": [\n          true,\n          false\n        ],\n        \"semantic_type\": \"\",\n        \"description\": \"\"\n      }\n    },\n    {\n      \"column\": \"mntmeatproducts\",\n      \"properties\": {\n        \"dtype\": \"boolean\",\n        \"num_unique_values\": 2,\n        \"samples\": [\n          true,\n          false\n        ],\n        \"semantic_type\": \"\",\n        \"description\": \"\"\n      }\n    },\n    {\n      \"column\": \"numcatalogpurchases\",\n      \"properties\": {\n        \"dtype\": \"boolean\",\n        \"num_unique_values\": 2,\n        \"samples\": [\n          true,\n          false\n        ],\n        \"semantic_type\": \"\",\n        \"description\": \"\"\n      }\n    },\n    {\n      \"column\": \"numwebpurchases\",\n      \"properties\": {\n        \"dtype\": \"boolean\",\n        \"num_unique_values\": 2,\n        \"samples\": [\n          true,\n          false\n        ],\n        \"semantic_type\": \"\",\n        \"description\": \"\"\n      }\n    },\n    {\n      \"column\": \"mntgoldprods\",\n      \"properties\": {\n        \"dtype\": \"boolean\",\n        \"num_unique_values\": 2,\n        \"samples\": [\n          true,\n          false\n        ],\n        \"semantic_type\": \"\",\n        \"description\": \"\"\n      }\n    },\n    {\n      \"column\": \"mntsweetproducts\",\n      \"properties\": {\n        \"dtype\": \"boolean\",\n        \"num_unique_values\": 2,\n        \"samples\": [\n          true,\n          false\n        ],\n        \"semantic_type\": \"\",\n        \"description\": \"\"\n      }\n    },\n    {\n      \"column\": \"mntfishproducts\",\n      \"properties\": {\n        \"dtype\": \"boolean\",\n        \"num_unique_values\": 2,\n        \"samples\": [\n          true,\n          false\n        ],\n        \"semantic_type\": \"\",\n        \"description\": \"\"\n      }\n    },\n    {\n      \"column\": \"education\",\n      \"properties\": {\n        \"dtype\": \"boolean\",\n        \"num_unique_values\": 2,\n        \"samples\": [\n          true,\n          false\n        ],\n        \"semantic_type\": \"\",\n        \"description\": \"\"\n      }\n    },\n    {\n      \"column\": \"income\",\n      \"properties\": {\n        \"dtype\": \"boolean\",\n        \"num_unique_values\": 2,\n        \"samples\": [\n          true,\n          false\n        ],\n        \"semantic_type\": \"\",\n        \"description\": \"\"\n      }\n    },\n    {\n      \"column\": \"recency\",\n      \"properties\": {\n        \"dtype\": \"boolean\",\n        \"num_unique_values\": 2,\n        \"samples\": [\n          true,\n          false\n        ],\n        \"semantic_type\": \"\",\n        \"description\": \"\"\n      }\n    },\n    {\n      \"column\": \"tempo_decorrido_cadastro\",\n      \"properties\": {\n        \"dtype\": \"boolean\",\n        \"num_unique_values\": 2,\n        \"samples\": [\n          true,\n          false\n        ],\n        \"semantic_type\": \"\",\n        \"description\": \"\"\n      }\n    },\n    {\n      \"column\": \"teenhome\",\n      \"properties\": {\n        \"dtype\": \"boolean\",\n        \"num_unique_values\": 2,\n        \"samples\": [\n          true,\n          false\n        ],\n        \"semantic_type\": \"\",\n        \"description\": \"\"\n      }\n    }\n  ]\n}"
            }
          },
          "metadata": {},
          "execution_count": 265
        }
      ]
    },
    {
      "cell_type": "code",
      "source": [
        "# Reavaliando a correlação percebemos conexão com algumas variáveis.\n",
        "# Exemplo: Renda, compra de vinho, carnes e compras por catálogo estão fortemente correlacionados entre si, sendo assim, não seremos redundantes, nos atendo a variável renda."
      ],
      "metadata": {
        "id": "BBE-As5g8dvE"
      },
      "execution_count": null,
      "outputs": []
    },
    {
      "cell_type": "code",
      "source": [
        "colunas_usadas = ['numwebpurchases','income', 'tempo_decorrido_cadastro', 'recency', 'acceptedcmp1','acceptedcmp5','acceptedcmp3','acceptedcmp4','acceptedcmp2','response']"
      ],
      "metadata": {
        "id": "uweKQG5CObPi"
      },
      "execution_count": null,
      "outputs": []
    },
    {
      "cell_type": "code",
      "source": [
        "# Vou usar as médias e os desvios padrão para determinar valores aceitáveis para as variáveis utilizadas."
      ],
      "metadata": {
        "id": "pSrfZIHniaaY"
      },
      "execution_count": null,
      "outputs": []
    },
    {
      "cell_type": "code",
      "source": [
        "threshold = .5\n",
        "for coluna in colunas_usadas:\n",
        "  print(f\"{coluna}:\\nMínimo: {describe[coluna]['mean'] - threshold * describe[coluna]['std']}\\nMédia: {describe[coluna]['mean']}\\nMáximo: {describe[coluna]['mean'] + threshold * describe[coluna]['std']}\\n\\n\")"
      ],
      "metadata": {
        "colab": {
          "base_uri": "https://localhost:8080/"
        },
        "id": "4VZfYvlOUeth",
        "outputId": "d823b72e-1c79-4bd2-dd90-f5a1f5ab0a73"
      },
      "execution_count": null,
      "outputs": [
        {
          "output_type": "stream",
          "name": "stdout",
          "text": [
            "numwebpurchases:\n",
            "Mínimo: 3.5791274889554607\n",
            "Média: 4.931034482758621\n",
            "Máximo: 6.282941476561781\n",
            "\n",
            "\n",
            "income:\n",
            "Mínimo: 43982.20142758434\n",
            "Média: 55366.528735632186\n",
            "Máximo: 66750.85604368003\n",
            "\n",
            "\n",
            "tempo_decorrido_cadastro:\n",
            "Mínimo: 3939.7144146118267\n",
            "Média: 4038.647509578544\n",
            "Máximo: 4137.580604545261\n",
            "\n",
            "\n",
            "recency:\n",
            "Mínimo: 21.341241133432742\n",
            "Média: 35.47892720306513\n",
            "Máximo: 49.61661327269752\n",
            "\n",
            "\n",
            "acceptedcmp1:\n",
            "Mínimo: -0.010168697847097147\n",
            "Média: 0.1839080459770115\n",
            "Máximo: 0.37798478980112016\n",
            "\n",
            "\n",
            "acceptedcmp5:\n",
            "Mínimo: 0.00890687401489032\n",
            "Média: 0.21455938697318008\n",
            "Máximo: 0.42021189993146985\n",
            "\n",
            "\n",
            "acceptedcmp3:\n",
            "Mínimo: 0.03239758438730922\n",
            "Média: 0.24904214559386972\n",
            "Máximo: 0.46568670680043023\n",
            "\n",
            "\n",
            "acceptedcmp4:\n",
            "Mínimo: -0.018968580363558446\n",
            "Média: 0.1685823754789272\n",
            "Máximo: 0.3561333313214129\n",
            "\n",
            "\n",
            "acceptedcmp2:\n",
            "Mínimo: -0.059175031259465695\n",
            "Média: 0.04980842911877394\n",
            "Máximo: 0.1587918894970136\n",
            "\n",
            "\n",
            "response:\n",
            "Mínimo: 1.0\n",
            "Média: 1.0\n",
            "Máximo: 1.0\n",
            "\n",
            "\n"
          ]
        }
      ]
    },
    {
      "cell_type": "code",
      "source": [
        "# Condições determinadas:\n",
        "# Realizou uma compra em uma das 3 campanhas foco\n",
        "# E renda superior a 45000MU\n",
        "# ou mais que três compras realizadas pela web\n",
        "# ou última compra a menos que 50 dias\n",
        "# ou cadastro realizado a pelo menos 4000 dias"
      ],
      "metadata": {
        "id": "gH5sufsVih3A"
      },
      "execution_count": null,
      "outputs": []
    },
    {
      "cell_type": "code",
      "source": [
        "filter_reimpact = ((df_encoded.acceptedcmp1 == 1) |\n",
        "(df_encoded.acceptedcmp3 == 1) |\n",
        "(df_encoded.acceptedcmp5 == 1))\n",
        "df_teste = df_encoded[filter_reimpact]\n",
        "len(df_teste)"
      ],
      "metadata": {
        "colab": {
          "base_uri": "https://localhost:8080/"
        },
        "id": "SDtoNFO1dc8n",
        "outputId": "61c1fa53-63fc-478b-e03b-f5d5c8d3cede"
      },
      "execution_count": null,
      "outputs": [
        {
          "output_type": "execute_result",
          "data": {
            "text/plain": [
              "275"
            ]
          },
          "metadata": {},
          "execution_count": 862
        }
      ]
    },
    {
      "cell_type": "code",
      "source": [
        "# 18% da amostra coletada já foi atingida por uma campanha e convertida.\n",
        "# 14% da amostra coletada já foi atingida pela campanha 1, 5 ou 3 e convertida, campanhas que tem grande correlação com a campanha atual.\n",
        "# Sendo o break-even em 27% e o lucro mínimo de 11% (definido pela taxa básica), usarei uma estratégia de reimpacto nas campanhas 1, 3 e 5.\n",
        "# Em adicional colocarei condições restritivas de renda e tempo de cadastro ou última compra ou compras web para diminuir nossa faixa e aumentar a provável conversão.\n",
        "# Com essas alterações ainda fico com alcance de quase 10% da base.\n",
        "# Levando em conta que se trata de uma base de centenas de milhares de clientes, acredito conseguir atingir uma base de pelo menos 10x o tamanho do piloto."
      ],
      "metadata": {
        "id": "iDGwKwU8dde2"
      },
      "execution_count": null,
      "outputs": []
    },
    {
      "cell_type": "code",
      "source": [
        "filtro = (\n",
        "((df_encoded.income > 45000) & (\n",
        "(df_encoded.tempo_decorrido_cadastro > 4000) |\n",
        "(df_encoded.recency < 50) |\n",
        "(df_encoded.numwebpurchases > 3))) & (\n",
        "((df_encoded.acceptedcmp1 == 1) |\n",
        "(df_encoded.acceptedcmp3 == 1) |\n",
        "(df_encoded.acceptedcmp5 == 1))\n",
        ")\n",
        ")\n"
      ],
      "metadata": {
        "id": "t_yuMuHA-jxF"
      },
      "execution_count": null,
      "outputs": []
    },
    {
      "cell_type": "code",
      "source": [
        "df_old = df_encoded[colunas_usadas]\n",
        "df_new = df_encoded[colunas_usadas]\n",
        "df_new = df_new[filtro]\n",
        "print(len(df_new)/len(df_old))"
      ],
      "metadata": {
        "colab": {
          "base_uri": "https://localhost:8080/"
        },
        "id": "EHQRNbr7_B5f",
        "outputId": "be1abe09-e7c7-4070-aa57-ccfc9c8e4abc"
      },
      "execution_count": null,
      "outputs": [
        {
          "output_type": "stream",
          "name": "stdout",
          "text": [
            "0.09779825908858167\n"
          ]
        }
      ]
    },
    {
      "cell_type": "code",
      "source": [
        "from sklearn.preprocessing import StandardScaler\n",
        "from sklearn.model_selection import train_test_split\n",
        "from sklearn.linear_model import LogisticRegression\n",
        "from sklearn.metrics import accuracy_score, confusion_matrix"
      ],
      "metadata": {
        "id": "5tggoBH4AHO6"
      },
      "execution_count": null,
      "outputs": []
    },
    {
      "cell_type": "code",
      "source": [
        "scaler = StandardScaler()\n",
        "X = df_encoded.drop('response', axis=1)\n",
        "y = df_encoded.response\n",
        "X = scaler.fit_transform(X)\n",
        "X_train, X_test, y_train, y_test = train_test_split(X, y, test_size=0.5, random_state=42)\n",
        "modelo_antigo = LogisticRegression()\n",
        "modelo_antigo.fit(X_train, y_train)\n",
        "previsoes = modelo_antigo.predict(X_test)\n",
        "print(accuracy_score(y_test, previsoes))\n",
        "print(confusion_matrix(y_test,previsoes))\n",
        "probabilidades_previstas = modelo_antigo.predict_proba(X)[:, 1]\n",
        "taxa_conversao_prevista = (probabilidades_previstas > 0.5).mean() * 100"
      ],
      "metadata": {
        "colab": {
          "base_uri": "https://localhost:8080/"
        },
        "id": "hBMbYc9DB3u_",
        "outputId": "b7cb205d-e063-4242-ee86-9dafc173def6"
      },
      "execution_count": null,
      "outputs": [
        {
          "output_type": "stream",
          "name": "stdout",
          "text": [
            "0.8996929375639714\n",
            "[[830  18]\n",
            " [ 80  49]]\n"
          ]
        }
      ]
    },
    {
      "cell_type": "code",
      "source": [
        "scaler = StandardScaler()\n",
        "X = df_new.drop('response', axis=1)\n",
        "y = df_new.response\n",
        "X = scaler.fit_transform(X)\n",
        "X_train, X_test, y_train, y_test = train_test_split(X, y, test_size=0.2, random_state=42)\n",
        "modelo_novo = LogisticRegression()\n",
        "modelo_novo.fit(X_train, y_train)\n",
        "previsoes = modelo_novo.predict(X_test)\n",
        "print(accuracy_score(y_test, previsoes))\n",
        "print(confusion_matrix(y_test,previsoes))\n",
        "probabilidades_previstas = modelo_novo.predict_proba(X)[:, 1]\n",
        "taxa_conversao_prevista = (probabilidades_previstas > 0.5).mean() * 100"
      ],
      "metadata": {
        "colab": {
          "base_uri": "https://localhost:8080/"
        },
        "id": "_kTS9S14CuBn",
        "outputId": "fad96e5c-0950-49cc-bf33-d94709f31e09"
      },
      "execution_count": null,
      "outputs": [
        {
          "output_type": "stream",
          "name": "stdout",
          "text": [
            "0.717948717948718\n",
            "[[16  4]\n",
            " [ 7 12]]\n"
          ]
        }
      ]
    },
    {
      "cell_type": "code",
      "source": [
        "taxa_conversao = (np.sum(previsoes)/len(previsoes))*100\n",
        "print(taxa_conversao)\n",
        "print(taxa_conversao_prevista)"
      ],
      "metadata": {
        "colab": {
          "base_uri": "https://localhost:8080/"
        },
        "id": "10JkPsEjEy1D",
        "outputId": "6f20f438-6618-4828-dc46-c832fcb53027"
      },
      "execution_count": null,
      "outputs": [
        {
          "output_type": "stream",
          "name": "stdout",
          "text": [
            "41.02564102564102\n",
            "46.596858638743456\n"
          ]
        }
      ]
    },
    {
      "cell_type": "code",
      "source": [
        "taxa_conversao = (np.sum(df_encoded.response)/len(df_encoded.response))*100\n",
        "print(taxa_conversao)"
      ],
      "metadata": {
        "colab": {
          "base_uri": "https://localhost:8080/"
        },
        "id": "aOaUoDvmKhZk",
        "outputId": "c6f85951-3345-414f-8101-3190083cdd98"
      },
      "execution_count": null,
      "outputs": [
        {
          "output_type": "stream",
          "name": "stdout",
          "text": [
            "13.36405529953917\n"
          ]
        }
      ]
    },
    {
      "cell_type": "code",
      "source": [
        "# Aumento da conversão de 13.36% da base limpa para 41.02% com confiabilidade de quase 72% (ainda baixa)"
      ],
      "metadata": {
        "id": "yDvfxvNTc-jr"
      },
      "execution_count": null,
      "outputs": []
    }
  ]
}
